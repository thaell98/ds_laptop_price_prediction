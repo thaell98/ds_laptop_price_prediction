{
 "cells": [
  {
   "cell_type": "code",
   "execution_count": 52,
   "metadata": {},
   "outputs": [],
   "source": [
    "import pandas as pd\n",
    "import matplotlib.pyplot as plt\n",
    "import seaborn as sns"
   ]
  },
  {
   "cell_type": "code",
   "execution_count": 53,
   "metadata": {},
   "outputs": [],
   "source": [
    "df = pd.read_csv(\"C:/Users/Pepe/Desktop/Projekty/ds_laptop_price_prediction/cleaned_data.csv\")"
   ]
  },
  {
   "cell_type": "code",
   "execution_count": 54,
   "metadata": {
    "scrolled": true
   },
   "outputs": [
    {
     "data": {
      "text/html": [
       "<div>\n",
       "<style scoped>\n",
       "    .dataframe tbody tr th:only-of-type {\n",
       "        vertical-align: middle;\n",
       "    }\n",
       "\n",
       "    .dataframe tbody tr th {\n",
       "        vertical-align: top;\n",
       "    }\n",
       "\n",
       "    .dataframe thead th {\n",
       "        text-align: right;\n",
       "    }\n",
       "</style>\n",
       "<table border=\"1\" class=\"dataframe\">\n",
       "  <thead>\n",
       "    <tr style=\"text-align: right;\">\n",
       "      <th></th>\n",
       "      <th>Title</th>\n",
       "      <th>Screen</th>\n",
       "      <th>Processor</th>\n",
       "      <th>RAM</th>\n",
       "      <th>Disk</th>\n",
       "      <th>Graphic_card</th>\n",
       "      <th>Operating_system</th>\n",
       "      <th>Price</th>\n",
       "      <th>Discounted_price</th>\n",
       "      <th>Brand</th>\n",
       "      <th>...</th>\n",
       "      <th>CPU</th>\n",
       "      <th>disk_hdd</th>\n",
       "      <th>disk_ssd</th>\n",
       "      <th>disk_flash</th>\n",
       "      <th>disk_emmc</th>\n",
       "      <th>GPU</th>\n",
       "      <th>OS</th>\n",
       "      <th>is_discounted</th>\n",
       "      <th>Price_int</th>\n",
       "      <th>Shop</th>\n",
       "    </tr>\n",
       "  </thead>\n",
       "  <tbody>\n",
       "    <tr>\n",
       "      <th>0</th>\n",
       "      <td>Laptop HP 15S-FQ1102NW i3-1005G1 8GB 256GB SSD...</td>\n",
       "      <td>15.6\", 1920 x 1080px</td>\n",
       "      <td>Intel Core i3-1005G1</td>\n",
       "      <td>8</td>\n",
       "      <td>256 GB SSD</td>\n",
       "      <td>Intel UHD Graphics</td>\n",
       "      <td>Windows 10 Home</td>\n",
       "      <td>2 599</td>\n",
       "      <td>2 299</td>\n",
       "      <td>hp</td>\n",
       "      <td>...</td>\n",
       "      <td>i3</td>\n",
       "      <td>0</td>\n",
       "      <td>256</td>\n",
       "      <td>0</td>\n",
       "      <td>0</td>\n",
       "      <td>integrated</td>\n",
       "      <td>windows</td>\n",
       "      <td>1</td>\n",
       "      <td>2299</td>\n",
       "      <td>mediaexpert</td>\n",
       "    </tr>\n",
       "    <tr>\n",
       "      <th>1</th>\n",
       "      <td>Laptop ASUS VivoBook 15 A512JA i5-1035G1 8GB 5...</td>\n",
       "      <td>15.6\", 1920 x 1080px</td>\n",
       "      <td>Intel Core i5-1035G1</td>\n",
       "      <td>8</td>\n",
       "      <td>512 GB SSD</td>\n",
       "      <td>Intel UHD Graphics</td>\n",
       "      <td>Windows 10 Home</td>\n",
       "      <td>3 499</td>\n",
       "      <td>2 999</td>\n",
       "      <td>asus</td>\n",
       "      <td>...</td>\n",
       "      <td>i5</td>\n",
       "      <td>0</td>\n",
       "      <td>512</td>\n",
       "      <td>0</td>\n",
       "      <td>0</td>\n",
       "      <td>integrated</td>\n",
       "      <td>windows</td>\n",
       "      <td>1</td>\n",
       "      <td>2999</td>\n",
       "      <td>mediaexpert</td>\n",
       "    </tr>\n",
       "    <tr>\n",
       "      <th>2</th>\n",
       "      <td>Laptop ACER Aspire 1 N4020 4GB 128GB eMMC W10</td>\n",
       "      <td>14\", 1366 x 768px</td>\n",
       "      <td>Intel Celeron N4020</td>\n",
       "      <td>4</td>\n",
       "      <td>128 GB Flash</td>\n",
       "      <td>Zintegrowana</td>\n",
       "      <td>Windows 10 Home</td>\n",
       "      <td>1 599</td>\n",
       "      <td>1 399</td>\n",
       "      <td>acer</td>\n",
       "      <td>...</td>\n",
       "      <td>celeron</td>\n",
       "      <td>0</td>\n",
       "      <td>0</td>\n",
       "      <td>128</td>\n",
       "      <td>0</td>\n",
       "      <td>other</td>\n",
       "      <td>windows</td>\n",
       "      <td>1</td>\n",
       "      <td>1399</td>\n",
       "      <td>mediaexpert</td>\n",
       "    </tr>\n",
       "    <tr>\n",
       "      <th>3</th>\n",
       "      <td>Laptop HP Pavilion 15-CS3029NW i5-1035G1 8GB 5...</td>\n",
       "      <td>15.6\", 1920 x 1080px</td>\n",
       "      <td>Intel Core i5-1035G1</td>\n",
       "      <td>8</td>\n",
       "      <td>512 GB SSD</td>\n",
       "      <td>Intel UHD Graphics</td>\n",
       "      <td>Windows 10 Home</td>\n",
       "      <td>NaN</td>\n",
       "      <td>3 199</td>\n",
       "      <td>hp</td>\n",
       "      <td>...</td>\n",
       "      <td>i5</td>\n",
       "      <td>0</td>\n",
       "      <td>512</td>\n",
       "      <td>0</td>\n",
       "      <td>0</td>\n",
       "      <td>integrated</td>\n",
       "      <td>windows</td>\n",
       "      <td>0</td>\n",
       "      <td>3199</td>\n",
       "      <td>mediaexpert</td>\n",
       "    </tr>\n",
       "    <tr>\n",
       "      <th>4</th>\n",
       "      <td>Laptop ACER Aspire 3 Athlon 3050U 4GB 256GB SS...</td>\n",
       "      <td>15.6\", 1920 x 1080px</td>\n",
       "      <td>AMD Athlon Silver 3050U</td>\n",
       "      <td>4</td>\n",
       "      <td>256 GB SSD</td>\n",
       "      <td>AMD Radeon Graphics</td>\n",
       "      <td>Windows 10 Home</td>\n",
       "      <td>2 199</td>\n",
       "      <td>1 699</td>\n",
       "      <td>acer</td>\n",
       "      <td>...</td>\n",
       "      <td>athlon</td>\n",
       "      <td>0</td>\n",
       "      <td>256</td>\n",
       "      <td>0</td>\n",
       "      <td>0</td>\n",
       "      <td>integrated</td>\n",
       "      <td>windows</td>\n",
       "      <td>1</td>\n",
       "      <td>1699</td>\n",
       "      <td>mediaexpert</td>\n",
       "    </tr>\n",
       "  </tbody>\n",
       "</table>\n",
       "<p>5 rows × 23 columns</p>\n",
       "</div>"
      ],
      "text/plain": [
       "                                               Title                Screen  \\\n",
       "0  Laptop HP 15S-FQ1102NW i3-1005G1 8GB 256GB SSD...  15.6\", 1920 x 1080px   \n",
       "1  Laptop ASUS VivoBook 15 A512JA i5-1035G1 8GB 5...  15.6\", 1920 x 1080px   \n",
       "2      Laptop ACER Aspire 1 N4020 4GB 128GB eMMC W10     14\", 1366 x 768px   \n",
       "3  Laptop HP Pavilion 15-CS3029NW i5-1035G1 8GB 5...  15.6\", 1920 x 1080px   \n",
       "4  Laptop ACER Aspire 3 Athlon 3050U 4GB 256GB SS...  15.6\", 1920 x 1080px   \n",
       "\n",
       "                 Processor  RAM          Disk         Graphic_card  \\\n",
       "0     Intel Core i3-1005G1    8    256 GB SSD   Intel UHD Graphics   \n",
       "1     Intel Core i5-1035G1    8    512 GB SSD   Intel UHD Graphics   \n",
       "2      Intel Celeron N4020    4  128 GB Flash         Zintegrowana   \n",
       "3     Intel Core i5-1035G1    8    512 GB SSD   Intel UHD Graphics   \n",
       "4  AMD Athlon Silver 3050U    4    256 GB SSD  AMD Radeon Graphics   \n",
       "\n",
       "  Operating_system  Price Discounted_price Brand  ...      CPU disk_hdd  \\\n",
       "0  Windows 10 Home  2 599            2 299    hp  ...       i3        0   \n",
       "1  Windows 10 Home  3 499            2 999  asus  ...       i5        0   \n",
       "2  Windows 10 Home  1 599            1 399  acer  ...  celeron        0   \n",
       "3  Windows 10 Home    NaN            3 199    hp  ...       i5        0   \n",
       "4  Windows 10 Home  2 199            1 699  acer  ...   athlon        0   \n",
       "\n",
       "   disk_ssd disk_flash  disk_emmc         GPU       OS  is_discounted  \\\n",
       "0       256          0          0  integrated  windows              1   \n",
       "1       512          0          0  integrated  windows              1   \n",
       "2         0        128          0       other  windows              1   \n",
       "3       512          0          0  integrated  windows              0   \n",
       "4       256          0          0  integrated  windows              1   \n",
       "\n",
       "  Price_int         Shop  \n",
       "0      2299  mediaexpert  \n",
       "1      2999  mediaexpert  \n",
       "2      1399  mediaexpert  \n",
       "3      3199  mediaexpert  \n",
       "4      1699  mediaexpert  \n",
       "\n",
       "[5 rows x 23 columns]"
      ]
     },
     "execution_count": 54,
     "metadata": {},
     "output_type": "execute_result"
    }
   ],
   "source": [
    "df.head()"
   ]
  },
  {
   "cell_type": "markdown",
   "metadata": {},
   "source": [
    "## =====================Values counts==============================="
   ]
  },
  {
   "cell_type": "code",
   "execution_count": 55,
   "metadata": {},
   "outputs": [
    {
     "data": {
      "text/html": [
       "<div>\n",
       "<style scoped>\n",
       "    .dataframe tbody tr th:only-of-type {\n",
       "        vertical-align: middle;\n",
       "    }\n",
       "\n",
       "    .dataframe tbody tr th {\n",
       "        vertical-align: top;\n",
       "    }\n",
       "\n",
       "    .dataframe thead th {\n",
       "        text-align: right;\n",
       "    }\n",
       "</style>\n",
       "<table border=\"1\" class=\"dataframe\">\n",
       "  <thead>\n",
       "    <tr style=\"text-align: right;\">\n",
       "      <th></th>\n",
       "      <th>RAM</th>\n",
       "      <th>screen_inches</th>\n",
       "      <th>screen_touch</th>\n",
       "      <th>disk_hdd</th>\n",
       "      <th>disk_ssd</th>\n",
       "      <th>disk_flash</th>\n",
       "      <th>disk_emmc</th>\n",
       "      <th>is_discounted</th>\n",
       "      <th>Price_int</th>\n",
       "    </tr>\n",
       "  </thead>\n",
       "  <tbody>\n",
       "    <tr>\n",
       "      <th>count</th>\n",
       "      <td>1257.000000</td>\n",
       "      <td>1257.000000</td>\n",
       "      <td>1257.000000</td>\n",
       "      <td>1257.000000</td>\n",
       "      <td>1257.000000</td>\n",
       "      <td>1257.000000</td>\n",
       "      <td>1257.000000</td>\n",
       "      <td>1257.000000</td>\n",
       "      <td>1257.000000</td>\n",
       "    </tr>\n",
       "    <tr>\n",
       "      <th>mean</th>\n",
       "      <td>10.290374</td>\n",
       "      <td>14.946062</td>\n",
       "      <td>0.155927</td>\n",
       "      <td>108.856006</td>\n",
       "      <td>433.801114</td>\n",
       "      <td>1.451074</td>\n",
       "      <td>0.432776</td>\n",
       "      <td>0.129674</td>\n",
       "      <td>5119.471758</td>\n",
       "    </tr>\n",
       "    <tr>\n",
       "      <th>std</th>\n",
       "      <td>5.635633</td>\n",
       "      <td>1.340330</td>\n",
       "      <td>0.362930</td>\n",
       "      <td>333.833618</td>\n",
       "      <td>303.884430</td>\n",
       "      <td>9.658222</td>\n",
       "      <td>6.305680</td>\n",
       "      <td>0.336078</td>\n",
       "      <td>3001.619352</td>\n",
       "    </tr>\n",
       "    <tr>\n",
       "      <th>min</th>\n",
       "      <td>1.000000</td>\n",
       "      <td>10.000000</td>\n",
       "      <td>0.000000</td>\n",
       "      <td>0.000000</td>\n",
       "      <td>0.000000</td>\n",
       "      <td>0.000000</td>\n",
       "      <td>0.000000</td>\n",
       "      <td>0.000000</td>\n",
       "      <td>299.000000</td>\n",
       "    </tr>\n",
       "    <tr>\n",
       "      <th>25%</th>\n",
       "      <td>8.000000</td>\n",
       "      <td>14.000000</td>\n",
       "      <td>0.000000</td>\n",
       "      <td>0.000000</td>\n",
       "      <td>256.000000</td>\n",
       "      <td>0.000000</td>\n",
       "      <td>0.000000</td>\n",
       "      <td>0.000000</td>\n",
       "      <td>2999.000000</td>\n",
       "    </tr>\n",
       "    <tr>\n",
       "      <th>50%</th>\n",
       "      <td>8.000000</td>\n",
       "      <td>15.600000</td>\n",
       "      <td>0.000000</td>\n",
       "      <td>0.000000</td>\n",
       "      <td>512.000000</td>\n",
       "      <td>0.000000</td>\n",
       "      <td>0.000000</td>\n",
       "      <td>0.000000</td>\n",
       "      <td>4299.000000</td>\n",
       "    </tr>\n",
       "    <tr>\n",
       "      <th>75%</th>\n",
       "      <td>16.000000</td>\n",
       "      <td>15.600000</td>\n",
       "      <td>0.000000</td>\n",
       "      <td>0.000000</td>\n",
       "      <td>512.000000</td>\n",
       "      <td>0.000000</td>\n",
       "      <td>0.000000</td>\n",
       "      <td>0.000000</td>\n",
       "      <td>6499.000000</td>\n",
       "    </tr>\n",
       "    <tr>\n",
       "      <th>max</th>\n",
       "      <td>32.000000</td>\n",
       "      <td>17.300000</td>\n",
       "      <td>1.000000</td>\n",
       "      <td>2048.000000</td>\n",
       "      <td>2048.000000</td>\n",
       "      <td>128.000000</td>\n",
       "      <td>128.000000</td>\n",
       "      <td>1.000000</td>\n",
       "      <td>19999.000000</td>\n",
       "    </tr>\n",
       "  </tbody>\n",
       "</table>\n",
       "</div>"
      ],
      "text/plain": [
       "               RAM  screen_inches  screen_touch     disk_hdd     disk_ssd  \\\n",
       "count  1257.000000    1257.000000   1257.000000  1257.000000  1257.000000   \n",
       "mean     10.290374      14.946062      0.155927   108.856006   433.801114   \n",
       "std       5.635633       1.340330      0.362930   333.833618   303.884430   \n",
       "min       1.000000      10.000000      0.000000     0.000000     0.000000   \n",
       "25%       8.000000      14.000000      0.000000     0.000000   256.000000   \n",
       "50%       8.000000      15.600000      0.000000     0.000000   512.000000   \n",
       "75%      16.000000      15.600000      0.000000     0.000000   512.000000   \n",
       "max      32.000000      17.300000      1.000000  2048.000000  2048.000000   \n",
       "\n",
       "        disk_flash    disk_emmc  is_discounted     Price_int  \n",
       "count  1257.000000  1257.000000    1257.000000   1257.000000  \n",
       "mean      1.451074     0.432776       0.129674   5119.471758  \n",
       "std       9.658222     6.305680       0.336078   3001.619352  \n",
       "min       0.000000     0.000000       0.000000    299.000000  \n",
       "25%       0.000000     0.000000       0.000000   2999.000000  \n",
       "50%       0.000000     0.000000       0.000000   4299.000000  \n",
       "75%       0.000000     0.000000       0.000000   6499.000000  \n",
       "max     128.000000   128.000000       1.000000  19999.000000  "
      ]
     },
     "execution_count": 55,
     "metadata": {},
     "output_type": "execute_result"
    }
   ],
   "source": [
    "df.describe()"
   ]
  },
  {
   "cell_type": "code",
   "execution_count": 56,
   "metadata": {},
   "outputs": [
    {
     "data": {
      "text/plain": [
       "Index(['Title', 'Screen', 'Processor', 'RAM', 'Disk', 'Graphic_card',\n",
       "       'Operating_system', 'Price', 'Discounted_price', 'Brand',\n",
       "       'screen_inches', 'screen_res', 'screen_touch', 'CPU', 'disk_hdd',\n",
       "       'disk_ssd', 'disk_flash', 'disk_emmc', 'GPU', 'OS', 'is_discounted',\n",
       "       'Price_int', 'Shop'],\n",
       "      dtype='object')"
      ]
     },
     "execution_count": 56,
     "metadata": {},
     "output_type": "execute_result"
    }
   ],
   "source": [
    "df.columns"
   ]
  },
  {
   "cell_type": "code",
   "execution_count": 57,
   "metadata": {},
   "outputs": [
    {
     "data": {
      "text/plain": [
       "lenovo         299\n",
       "asus           194\n",
       "acer           153\n",
       "hp             145\n",
       "dell           136\n",
       "msi             88\n",
       "microsoft       64\n",
       "apple           55\n",
       "hyperbook       41\n",
       "huawei          30\n",
       "hiro            21\n",
       "lg              11\n",
       "kiano            8\n",
       "dynabook         8\n",
       "kruger&matz      2\n",
       "fujitsu          1\n",
       "cavion           1\n",
       "Name: Brand, dtype: int64"
      ]
     },
     "execution_count": 57,
     "metadata": {},
     "output_type": "execute_result"
    }
   ],
   "source": [
    "df.Brand.value_counts()"
   ]
  },
  {
   "cell_type": "code",
   "execution_count": 58,
   "metadata": {},
   "outputs": [
    {
     "data": {
      "text/plain": [
       "integrated     536\n",
       "geforce gtx    286\n",
       "geforce rtx    200\n",
       "geforce mx      81\n",
       "radeon vega     64\n",
       "radeon rx       29\n",
       "other           21\n",
       "radeon r        13\n",
       "radeon pro      12\n",
       "radeon 5        11\n",
       "quadro rtx       4\n",
       "Name: GPU, dtype: int64"
      ]
     },
     "execution_count": 58,
     "metadata": {},
     "output_type": "execute_result"
    }
   ],
   "source": [
    "df.GPU.value_counts()"
   ]
  },
  {
   "cell_type": "code",
   "execution_count": 59,
   "metadata": {},
   "outputs": [
    {
     "data": {
      "text/plain": [
       "8     753\n",
       "16    311\n",
       "4     134\n",
       "32     41\n",
       "2      13\n",
       "12      3\n",
       "24      1\n",
       "1       1\n",
       "Name: RAM, dtype: int64"
      ]
     },
     "execution_count": 59,
     "metadata": {},
     "output_type": "execute_result"
    }
   ],
   "source": [
    "df.RAM.value_counts()"
   ]
  },
  {
   "cell_type": "code",
   "execution_count": 60,
   "metadata": {},
   "outputs": [
    {
     "data": {
      "text/plain": [
       "i5         470\n",
       "i7         388\n",
       "ryzen 5    106\n",
       "i3          76\n",
       "ryzen 7     71\n",
       "other       39\n",
       "celeron     33\n",
       "i9          26\n",
       "pentium     24\n",
       "ryzen 3     19\n",
       "athlon       4\n",
       "xeon         1\n",
       "Name: CPU, dtype: int64"
      ]
     },
     "execution_count": 60,
     "metadata": {},
     "output_type": "execute_result"
    }
   ],
   "source": [
    "df.CPU.value_counts()"
   ]
  },
  {
   "cell_type": "code",
   "execution_count": 61,
   "metadata": {},
   "outputs": [
    {
     "data": {
      "text/plain": [
       "windows      1030\n",
       "none          181\n",
       "macOS          36\n",
       "linux           6\n",
       "chrome OS       4\n",
       "Name: OS, dtype: int64"
      ]
     },
     "execution_count": 61,
     "metadata": {},
     "output_type": "execute_result"
    }
   ],
   "source": [
    "df.OS.value_counts()"
   ]
  },
  {
   "cell_type": "code",
   "execution_count": 62,
   "metadata": {},
   "outputs": [
    {
     "data": {
      "text/plain": [
       "0    1061\n",
       "1     196\n",
       "Name: screen_touch, dtype: int64"
      ]
     },
     "execution_count": 62,
     "metadata": {},
     "output_type": "execute_result"
    }
   ],
   "source": [
    "df.screen_touch.value_counts()"
   ]
  },
  {
   "cell_type": "code",
   "execution_count": 63,
   "metadata": {},
   "outputs": [
    {
     "data": {
      "text/plain": [
       "1920x1080    1034\n",
       "2560x1600      44\n",
       "1366x768       33\n",
       "2736x1824      30\n",
       "3840x2160      29\n",
       "3000x2000      16\n",
       "2160x1440      11\n",
       "2256x1504       9\n",
       "3072x1920       8\n",
       "1280x800        5\n",
       "2560x1440       5\n",
       "2880x1920       5\n",
       "1800x1200       5\n",
       "1600x900        4\n",
       "2496x1664       4\n",
       "2880x1800       3\n",
       "1920x1280       3\n",
       "2304x1440       3\n",
       "2740x1824       1\n",
       "1024x600        1\n",
       "3240x2160       1\n",
       "2880x1620       1\n",
       "3200x1800       1\n",
       "1440x900        1\n",
       "Name: screen_res, dtype: int64"
      ]
     },
     "execution_count": 63,
     "metadata": {},
     "output_type": "execute_result"
    }
   ],
   "source": [
    "df.screen_res.value_counts()"
   ]
  },
  {
   "cell_type": "code",
   "execution_count": 64,
   "metadata": {},
   "outputs": [
    {
     "data": {
      "text/plain": [
       "15.6    665\n",
       "14.0    237\n",
       "13.3    108\n",
       "17.3    105\n",
       "12.3     31\n",
       "13.9     23\n",
       "13.5     15\n",
       "13.0     14\n",
       "11.6     12\n",
       "16.0      8\n",
       "10.1      6\n",
       "10.0      5\n",
       "15.0      5\n",
       "14.1      4\n",
       "10.5      4\n",
       "15.4      3\n",
       "13.4      3\n",
       "12.0      3\n",
       "17.0      2\n",
       "12.5      2\n",
       "12.1      2\n",
       "Name: screen_inches, dtype: int64"
      ]
     },
     "execution_count": 64,
     "metadata": {},
     "output_type": "execute_result"
    }
   ],
   "source": [
    "df.screen_inches.value_counts()"
   ]
  },
  {
   "cell_type": "code",
   "execution_count": 65,
   "metadata": {},
   "outputs": [
    {
     "data": {
      "text/plain": [
       "0       1127\n",
       "1024     114\n",
       "2048       8\n",
       "512        6\n",
       "320        2\n",
       "Name: disk_hdd, dtype: int64"
      ]
     },
     "execution_count": 65,
     "metadata": {},
     "output_type": "execute_result"
    }
   ],
   "source": [
    "df.disk_hdd.value_counts()"
   ]
  },
  {
   "cell_type": "code",
   "execution_count": 66,
   "metadata": {},
   "outputs": [
    {
     "data": {
      "text/plain": [
       "512     539\n",
       "256     360\n",
       "1024    140\n",
       "0       113\n",
       "128      78\n",
       "240      13\n",
       "2048      7\n",
       "1536      4\n",
       "120       1\n",
       "64        1\n",
       "32        1\n",
       "Name: disk_ssd, dtype: int64"
      ]
     },
     "execution_count": 66,
     "metadata": {},
     "output_type": "execute_result"
    }
   ],
   "source": [
    "df.disk_ssd.value_counts()"
   ]
  },
  {
   "cell_type": "markdown",
   "metadata": {},
   "source": [
    "## =====================Histograms==============================="
   ]
  },
  {
   "cell_type": "code",
   "execution_count": 67,
   "metadata": {},
   "outputs": [
    {
     "data": {
      "text/plain": [
       "Index(['Title', 'Screen', 'Processor', 'RAM', 'Disk', 'Graphic_card',\n",
       "       'Operating_system', 'Price', 'Discounted_price', 'Brand',\n",
       "       'screen_inches', 'screen_res', 'screen_touch', 'CPU', 'disk_hdd',\n",
       "       'disk_ssd', 'disk_flash', 'disk_emmc', 'GPU', 'OS', 'is_discounted',\n",
       "       'Price_int', 'Shop'],\n",
       "      dtype='object')"
      ]
     },
     "execution_count": 67,
     "metadata": {},
     "output_type": "execute_result"
    }
   ],
   "source": [
    "df.columns"
   ]
  },
  {
   "cell_type": "code",
   "execution_count": 68,
   "metadata": {},
   "outputs": [
    {
     "data": {
      "text/plain": [
       "<AxesSubplot:>"
      ]
     },
     "execution_count": 68,
     "metadata": {},
     "output_type": "execute_result"
    },
    {
     "data": {
      "image/png": "[encoded data removed]",
      "text/plain": [
       "<Figure size 432x288 with 1 Axes>"
      ]
     },
     "metadata": {
      "needs_background": "light"
     },
     "output_type": "display_data"
    }
   ],
   "source": [
    "df.screen_inches.hist()"
   ]
  },
  {
   "cell_type": "code",
   "execution_count": 69,
   "metadata": {},
   "outputs": [
    {
     "data": {
      "text/html": [
       "<div>\n",
       "<style scoped>\n",
       "    .dataframe tbody tr th:only-of-type {\n",
       "        vertical-align: middle;\n",
       "    }\n",
       "\n",
       "    .dataframe tbody tr th {\n",
       "        vertical-align: top;\n",
       "    }\n",
       "\n",
       "    .dataframe thead th {\n",
       "        text-align: right;\n",
       "    }\n",
       "</style>\n",
       "<table border=\"1\" class=\"dataframe\">\n",
       "  <thead>\n",
       "    <tr style=\"text-align: right;\">\n",
       "      <th></th>\n",
       "      <th>Title</th>\n",
       "      <th>Screen</th>\n",
       "      <th>Processor</th>\n",
       "      <th>RAM</th>\n",
       "      <th>Disk</th>\n",
       "      <th>Graphic_card</th>\n",
       "      <th>Operating_system</th>\n",
       "      <th>Price</th>\n",
       "      <th>Discounted_price</th>\n",
       "      <th>Brand</th>\n",
       "      <th>...</th>\n",
       "      <th>CPU</th>\n",
       "      <th>disk_hdd</th>\n",
       "      <th>disk_ssd</th>\n",
       "      <th>disk_flash</th>\n",
       "      <th>disk_emmc</th>\n",
       "      <th>GPU</th>\n",
       "      <th>OS</th>\n",
       "      <th>is_discounted</th>\n",
       "      <th>Price_int</th>\n",
       "      <th>Shop</th>\n",
       "    </tr>\n",
       "  </thead>\n",
       "  <tbody>\n",
       "    <tr>\n",
       "      <th>0</th>\n",
       "      <td>Laptop HP 15S-FQ1102NW i3-1005G1 8GB 256GB SSD...</td>\n",
       "      <td>15.6\", 1920 x 1080px</td>\n",
       "      <td>Intel Core i3-1005G1</td>\n",
       "      <td>8</td>\n",
       "      <td>256 GB SSD</td>\n",
       "      <td>Intel UHD Graphics</td>\n",
       "      <td>Windows 10 Home</td>\n",
       "      <td>2 599</td>\n",
       "      <td>2 299</td>\n",
       "      <td>hp</td>\n",
       "      <td>...</td>\n",
       "      <td>i3</td>\n",
       "      <td>0</td>\n",
       "      <td>256</td>\n",
       "      <td>0</td>\n",
       "      <td>0</td>\n",
       "      <td>integrated</td>\n",
       "      <td>windows</td>\n",
       "      <td>1</td>\n",
       "      <td>2299</td>\n",
       "      <td>mediaexpert</td>\n",
       "    </tr>\n",
       "    <tr>\n",
       "      <th>1</th>\n",
       "      <td>Laptop ASUS VivoBook 15 A512JA i5-1035G1 8GB 5...</td>\n",
       "      <td>15.6\", 1920 x 1080px</td>\n",
       "      <td>Intel Core i5-1035G1</td>\n",
       "      <td>8</td>\n",
       "      <td>512 GB SSD</td>\n",
       "      <td>Intel UHD Graphics</td>\n",
       "      <td>Windows 10 Home</td>\n",
       "      <td>3 499</td>\n",
       "      <td>2 999</td>\n",
       "      <td>asus</td>\n",
       "      <td>...</td>\n",
       "      <td>i5</td>\n",
       "      <td>0</td>\n",
       "      <td>512</td>\n",
       "      <td>0</td>\n",
       "      <td>0</td>\n",
       "      <td>integrated</td>\n",
       "      <td>windows</td>\n",
       "      <td>1</td>\n",
       "      <td>2999</td>\n",
       "      <td>mediaexpert</td>\n",
       "    </tr>\n",
       "    <tr>\n",
       "      <th>2</th>\n",
       "      <td>Laptop ACER Aspire 1 N4020 4GB 128GB eMMC W10</td>\n",
       "      <td>14\", 1366 x 768px</td>\n",
       "      <td>Intel Celeron N4020</td>\n",
       "      <td>4</td>\n",
       "      <td>128 GB Flash</td>\n",
       "      <td>Zintegrowana</td>\n",
       "      <td>Windows 10 Home</td>\n",
       "      <td>1 599</td>\n",
       "      <td>1 399</td>\n",
       "      <td>acer</td>\n",
       "      <td>...</td>\n",
       "      <td>celeron</td>\n",
       "      <td>0</td>\n",
       "      <td>0</td>\n",
       "      <td>128</td>\n",
       "      <td>0</td>\n",
       "      <td>other</td>\n",
       "      <td>windows</td>\n",
       "      <td>1</td>\n",
       "      <td>1399</td>\n",
       "      <td>mediaexpert</td>\n",
       "    </tr>\n",
       "    <tr>\n",
       "      <th>3</th>\n",
       "      <td>Laptop HP Pavilion 15-CS3029NW i5-1035G1 8GB 5...</td>\n",
       "      <td>15.6\", 1920 x 1080px</td>\n",
       "      <td>Intel Core i5-1035G1</td>\n",
       "      <td>8</td>\n",
       "      <td>512 GB SSD</td>\n",
       "      <td>Intel UHD Graphics</td>\n",
       "      <td>Windows 10 Home</td>\n",
       "      <td>NaN</td>\n",
       "      <td>3 199</td>\n",
       "      <td>hp</td>\n",
       "      <td>...</td>\n",
       "      <td>i5</td>\n",
       "      <td>0</td>\n",
       "      <td>512</td>\n",
       "      <td>0</td>\n",
       "      <td>0</td>\n",
       "      <td>integrated</td>\n",
       "      <td>windows</td>\n",
       "      <td>0</td>\n",
       "      <td>3199</td>\n",
       "      <td>mediaexpert</td>\n",
       "    </tr>\n",
       "    <tr>\n",
       "      <th>4</th>\n",
       "      <td>Laptop ACER Aspire 3 Athlon 3050U 4GB 256GB SS...</td>\n",
       "      <td>15.6\", 1920 x 1080px</td>\n",
       "      <td>AMD Athlon Silver 3050U</td>\n",
       "      <td>4</td>\n",
       "      <td>256 GB SSD</td>\n",
       "      <td>AMD Radeon Graphics</td>\n",
       "      <td>Windows 10 Home</td>\n",
       "      <td>2 199</td>\n",
       "      <td>1 699</td>\n",
       "      <td>acer</td>\n",
       "      <td>...</td>\n",
       "      <td>athlon</td>\n",
       "      <td>0</td>\n",
       "      <td>256</td>\n",
       "      <td>0</td>\n",
       "      <td>0</td>\n",
       "      <td>integrated</td>\n",
       "      <td>windows</td>\n",
       "      <td>1</td>\n",
       "      <td>1699</td>\n",
       "      <td>mediaexpert</td>\n",
       "    </tr>\n",
       "    <tr>\n",
       "      <th>...</th>\n",
       "      <td>...</td>\n",
       "      <td>...</td>\n",
       "      <td>...</td>\n",
       "      <td>...</td>\n",
       "      <td>...</td>\n",
       "      <td>...</td>\n",
       "      <td>...</td>\n",
       "      <td>...</td>\n",
       "      <td>...</td>\n",
       "      <td>...</td>\n",
       "      <td>...</td>\n",
       "      <td>...</td>\n",
       "      <td>...</td>\n",
       "      <td>...</td>\n",
       "      <td>...</td>\n",
       "      <td>...</td>\n",
       "      <td>...</td>\n",
       "      <td>...</td>\n",
       "      <td>...</td>\n",
       "      <td>...</td>\n",
       "      <td>...</td>\n",
       "    </tr>\n",
       "    <tr>\n",
       "      <th>1252</th>\n",
       "      <td>Microsoft Surface Pro 6 12,3\" Intel® Core™ i5-...</td>\n",
       "      <td>12,3 cala, ekran dotykowy 2736 x 1824 pikseli</td>\n",
       "      <td>Intel® Core™ i5 8gen 8250U 1,6 - 3,4 GHz</td>\n",
       "      <td>8</td>\n",
       "      <td>128 GB SSD</td>\n",
       "      <td>Intel® UHD Graphics 620</td>\n",
       "      <td>Windows 10 Home Edition</td>\n",
       "      <td>4 099 z?</td>\n",
       "      <td>0</td>\n",
       "      <td>microsoft</td>\n",
       "      <td>...</td>\n",
       "      <td>i5</td>\n",
       "      <td>0</td>\n",
       "      <td>128</td>\n",
       "      <td>0</td>\n",
       "      <td>0</td>\n",
       "      <td>integrated</td>\n",
       "      <td>windows</td>\n",
       "      <td>0</td>\n",
       "      <td>4099</td>\n",
       "      <td>eurortvagd</td>\n",
       "    </tr>\n",
       "    <tr>\n",
       "      <th>1253</th>\n",
       "      <td>LG Gram 15,6'' Intel® Core™ i5-8265U - 8GB RAM...</td>\n",
       "      <td>15,6 cala,  1920 x 1080 pikseli</td>\n",
       "      <td>Intel® Core™ i5 8gen 8265U 1,6 - 3,9 GHz</td>\n",
       "      <td>8</td>\n",
       "      <td>512 GB SSD</td>\n",
       "      <td>Intel® UHD Graphics 620</td>\n",
       "      <td>Windows 10 Home Edition</td>\n",
       "      <td>5 749 z?</td>\n",
       "      <td>0</td>\n",
       "      <td>lg</td>\n",
       "      <td>...</td>\n",
       "      <td>i5</td>\n",
       "      <td>0</td>\n",
       "      <td>512</td>\n",
       "      <td>0</td>\n",
       "      <td>0</td>\n",
       "      <td>integrated</td>\n",
       "      <td>windows</td>\n",
       "      <td>0</td>\n",
       "      <td>5749</td>\n",
       "      <td>eurortvagd</td>\n",
       "    </tr>\n",
       "    <tr>\n",
       "      <th>1254</th>\n",
       "      <td>NaN</td>\n",
       "      <td>12,1 cala,  2304 x 1440 pikseli</td>\n",
       "      <td>Intel® Core™ M-series 7Y32 1,2 - 3,0 GHz</td>\n",
       "      <td>8</td>\n",
       "      <td>256 GB SSD</td>\n",
       "      <td>Intel® HD Graphics 615</td>\n",
       "      <td>Mac OS X Sierra</td>\n",
       "      <td>5 599 z?</td>\n",
       "      <td>0</td>\n",
       "      <td>apple</td>\n",
       "      <td>...</td>\n",
       "      <td>other</td>\n",
       "      <td>0</td>\n",
       "      <td>256</td>\n",
       "      <td>0</td>\n",
       "      <td>0</td>\n",
       "      <td>integrated</td>\n",
       "      <td>macOS</td>\n",
       "      <td>0</td>\n",
       "      <td>5599</td>\n",
       "      <td>eurortvagd</td>\n",
       "    </tr>\n",
       "    <tr>\n",
       "      <th>1255</th>\n",
       "      <td>NaN</td>\n",
       "      <td>15,4 cala,  2880 x 1800 pikseli</td>\n",
       "      <td>Intel® Core™ i7 8gen  2,2 - 4,1 GHz</td>\n",
       "      <td>16</td>\n",
       "      <td>256 GB SSD</td>\n",
       "      <td>AMD Radeon Pro 555X</td>\n",
       "      <td>Mac OS X 10.11</td>\n",
       "      <td>10 499 z?</td>\n",
       "      <td>0</td>\n",
       "      <td>apple</td>\n",
       "      <td>...</td>\n",
       "      <td>i7</td>\n",
       "      <td>0</td>\n",
       "      <td>256</td>\n",
       "      <td>0</td>\n",
       "      <td>0</td>\n",
       "      <td>radeon pro</td>\n",
       "      <td>macOS</td>\n",
       "      <td>0</td>\n",
       "      <td>10499</td>\n",
       "      <td>eurortvagd</td>\n",
       "    </tr>\n",
       "    <tr>\n",
       "      <th>1256</th>\n",
       "      <td>Microsoft Surface Pro 7 12,3\" Intel® Core™ i3-...</td>\n",
       "      <td>12,3 cala, ekran dotykowy 2736 x 1824 pikseli</td>\n",
       "      <td>Intel® Core™ i3 10gen 1005G1 1,2 - 3,4 GHz</td>\n",
       "      <td>4</td>\n",
       "      <td>128 GB SSD</td>\n",
       "      <td>Intel® UHD Graphics</td>\n",
       "      <td>Windows 10 Home Edition</td>\n",
       "      <td>4 399 z?</td>\n",
       "      <td>0</td>\n",
       "      <td>microsoft</td>\n",
       "      <td>...</td>\n",
       "      <td>i3</td>\n",
       "      <td>0</td>\n",
       "      <td>128</td>\n",
       "      <td>0</td>\n",
       "      <td>0</td>\n",
       "      <td>integrated</td>\n",
       "      <td>windows</td>\n",
       "      <td>0</td>\n",
       "      <td>4399</td>\n",
       "      <td>eurortvagd</td>\n",
       "    </tr>\n",
       "  </tbody>\n",
       "</table>\n",
       "<p>1257 rows × 23 columns</p>\n",
       "</div>"
      ],
      "text/plain": [
       "                                                  Title  \\\n",
       "0     Laptop HP 15S-FQ1102NW i3-1005G1 8GB 256GB SSD...   \n",
       "1     Laptop ASUS VivoBook 15 A512JA i5-1035G1 8GB 5...   \n",
       "2         Laptop ACER Aspire 1 N4020 4GB 128GB eMMC W10   \n",
       "3     Laptop HP Pavilion 15-CS3029NW i5-1035G1 8GB 5...   \n",
       "4     Laptop ACER Aspire 3 Athlon 3050U 4GB 256GB SS...   \n",
       "...                                                 ...   \n",
       "1252  Microsoft Surface Pro 6 12,3\" Intel® Core™ i5-...   \n",
       "1253  LG Gram 15,6'' Intel® Core™ i5-8265U - 8GB RAM...   \n",
       "1254                                                NaN   \n",
       "1255                                                NaN   \n",
       "1256  Microsoft Surface Pro 7 12,3\" Intel® Core™ i3-...   \n",
       "\n",
       "                                             Screen  \\\n",
       "0                              15.6\", 1920 x 1080px   \n",
       "1                              15.6\", 1920 x 1080px   \n",
       "2                                 14\", 1366 x 768px   \n",
       "3                              15.6\", 1920 x 1080px   \n",
       "4                              15.6\", 1920 x 1080px   \n",
       "...                                             ...   \n",
       "1252  12,3 cala, ekran dotykowy 2736 x 1824 pikseli   \n",
       "1253                15,6 cala,  1920 x 1080 pikseli   \n",
       "1254                12,1 cala,  2304 x 1440 pikseli   \n",
       "1255                15,4 cala,  2880 x 1800 pikseli   \n",
       "1256  12,3 cala, ekran dotykowy 2736 x 1824 pikseli   \n",
       "\n",
       "                                       Processor  RAM          Disk  \\\n",
       "0                           Intel Core i3-1005G1    8    256 GB SSD   \n",
       "1                           Intel Core i5-1035G1    8    512 GB SSD   \n",
       "2                            Intel Celeron N4020    4  128 GB Flash   \n",
       "3                           Intel Core i5-1035G1    8    512 GB SSD   \n",
       "4                        AMD Athlon Silver 3050U    4    256 GB SSD   \n",
       "...                                          ...  ...           ...   \n",
       "1252    Intel® Core™ i5 8gen 8250U 1,6 - 3,4 GHz    8    128 GB SSD   \n",
       "1253    Intel® Core™ i5 8gen 8265U 1,6 - 3,9 GHz    8    512 GB SSD   \n",
       "1254    Intel® Core™ M-series 7Y32 1,2 - 3,0 GHz    8    256 GB SSD   \n",
       "1255         Intel® Core™ i7 8gen  2,2 - 4,1 GHz   16    256 GB SSD   \n",
       "1256  Intel® Core™ i3 10gen 1005G1 1,2 - 3,4 GHz    4    128 GB SSD   \n",
       "\n",
       "                 Graphic_card         Operating_system      Price  \\\n",
       "0          Intel UHD Graphics          Windows 10 Home      2 599   \n",
       "1          Intel UHD Graphics          Windows 10 Home      3 499   \n",
       "2                Zintegrowana          Windows 10 Home      1 599   \n",
       "3          Intel UHD Graphics          Windows 10 Home        NaN   \n",
       "4         AMD Radeon Graphics          Windows 10 Home      2 199   \n",
       "...                       ...                      ...        ...   \n",
       "1252  Intel® UHD Graphics 620  Windows 10 Home Edition   4 099 z?   \n",
       "1253  Intel® UHD Graphics 620  Windows 10 Home Edition   5 749 z?   \n",
       "1254   Intel® HD Graphics 615          Mac OS X Sierra   5 599 z?   \n",
       "1255      AMD Radeon Pro 555X           Mac OS X 10.11  10 499 z?   \n",
       "1256      Intel® UHD Graphics  Windows 10 Home Edition   4 399 z?   \n",
       "\n",
       "     Discounted_price      Brand  ...      CPU disk_hdd  disk_ssd disk_flash  \\\n",
       "0               2 299         hp  ...       i3        0       256          0   \n",
       "1               2 999       asus  ...       i5        0       512          0   \n",
       "2               1 399       acer  ...  celeron        0         0        128   \n",
       "3               3 199         hp  ...       i5        0       512          0   \n",
       "4               1 699       acer  ...   athlon        0       256          0   \n",
       "...               ...        ...  ...      ...      ...       ...        ...   \n",
       "1252                0  microsoft  ...       i5        0       128          0   \n",
       "1253                0         lg  ...       i5        0       512          0   \n",
       "1254                0      apple  ...    other        0       256          0   \n",
       "1255                0      apple  ...       i7        0       256          0   \n",
       "1256                0  microsoft  ...       i3        0       128          0   \n",
       "\n",
       "      disk_emmc         GPU       OS  is_discounted Price_int         Shop  \n",
       "0             0  integrated  windows              1      2299  mediaexpert  \n",
       "1             0  integrated  windows              1      2999  mediaexpert  \n",
       "2             0       other  windows              1      1399  mediaexpert  \n",
       "3             0  integrated  windows              0      3199  mediaexpert  \n",
       "4             0  integrated  windows              1      1699  mediaexpert  \n",
       "...         ...         ...      ...            ...       ...          ...  \n",
       "1252          0  integrated  windows              0      4099   eurortvagd  \n",
       "1253          0  integrated  windows              0      5749   eurortvagd  \n",
       "1254          0  integrated    macOS              0      5599   eurortvagd  \n",
       "1255          0  radeon pro    macOS              0     10499   eurortvagd  \n",
       "1256          0  integrated  windows              0      4399   eurortvagd  \n",
       "\n",
       "[1257 rows x 23 columns]"
      ]
     },
     "execution_count": 69,
     "metadata": {},
     "output_type": "execute_result"
    }
   ],
   "source": [
    "df"
   ]
  },
  {
   "cell_type": "markdown",
   "metadata": {},
   "source": [
    "## =====================Boxplots===============================\n"
   ]
  },
  {
   "cell_type": "code",
   "execution_count": 70,
   "metadata": {},
   "outputs": [
    {
     "data": {
      "text/plain": [
       "<AxesSubplot:>"
      ]
     },
     "execution_count": 70,
     "metadata": {},
     "output_type": "execute_result"
    },
    {
     "data": {
      "image/png": "[encoded data removed]",
      "text/plain": [
       "<Figure size 432x288 with 1 Axes>"
      ]
     },
     "metadata": {
      "needs_background": "light"
     },
     "output_type": "display_data"
    }
   ],
   "source": [
    "df.boxplot(column = \"Price_int\")"
   ]
  },
  {
   "cell_type": "code",
   "execution_count": 71,
   "metadata": {},
   "outputs": [
    {
     "data": {
      "text/plain": [
       "<AxesSubplot:>"
      ]
     },
     "execution_count": 71,
     "metadata": {},
     "output_type": "execute_result"
    },
    {
     "data": {
      "image/png": "[encoded data removed]",
      "text/plain": [
       "<Figure size 432x288 with 1 Axes>"
      ]
     },
     "metadata": {
      "needs_background": "light"
     },
     "output_type": "display_data"
    }
   ],
   "source": [
    "df.boxplot(column = \"screen_inches\")"
   ]
  },
  {
   "cell_type": "code",
   "execution_count": 72,
   "metadata": {},
   "outputs": [
    {
     "data": {
      "text/plain": [
       "<AxesSubplot:>"
      ]
     },
     "execution_count": 72,
     "metadata": {},
     "output_type": "execute_result"
    },
    {
     "data": {
      "image/png": "[encoded data removed]",
      "text/plain": [
       "<Figure size 432x288 with 1 Axes>"
      ]
     },
     "metadata": {
      "needs_background": "light"
     },
     "output_type": "display_data"
    }
   ],
   "source": [
    "df.boxplot(column = ['disk_hdd', 'disk_ssd', 'disk_flash', 'disk_emmc'])"
   ]
  },
  {
   "cell_type": "markdown",
   "metadata": {},
   "source": [
    "## =====================Correlations===============================\n"
   ]
  },
  {
   "cell_type": "code",
   "execution_count": 73,
   "metadata": {},
   "outputs": [
    {
     "data": {
      "text/html": [
       "<div>\n",
       "<style scoped>\n",
       "    .dataframe tbody tr th:only-of-type {\n",
       "        vertical-align: middle;\n",
       "    }\n",
       "\n",
       "    .dataframe tbody tr th {\n",
       "        vertical-align: top;\n",
       "    }\n",
       "\n",
       "    .dataframe thead th {\n",
       "        text-align: right;\n",
       "    }\n",
       "</style>\n",
       "<table border=\"1\" class=\"dataframe\">\n",
       "  <thead>\n",
       "    <tr style=\"text-align: right;\">\n",
       "      <th></th>\n",
       "      <th>screen_inches</th>\n",
       "      <th>screen_touch</th>\n",
       "      <th>is_discounted</th>\n",
       "      <th>Price_int</th>\n",
       "    </tr>\n",
       "  </thead>\n",
       "  <tbody>\n",
       "    <tr>\n",
       "      <th>screen_inches</th>\n",
       "      <td>1.000000</td>\n",
       "      <td>-0.551295</td>\n",
       "      <td>-0.086798</td>\n",
       "      <td>0.188271</td>\n",
       "    </tr>\n",
       "    <tr>\n",
       "      <th>screen_touch</th>\n",
       "      <td>-0.551295</td>\n",
       "      <td>1.000000</td>\n",
       "      <td>0.062559</td>\n",
       "      <td>0.045651</td>\n",
       "    </tr>\n",
       "    <tr>\n",
       "      <th>is_discounted</th>\n",
       "      <td>-0.086798</td>\n",
       "      <td>0.062559</td>\n",
       "      <td>1.000000</td>\n",
       "      <td>0.007621</td>\n",
       "    </tr>\n",
       "    <tr>\n",
       "      <th>Price_int</th>\n",
       "      <td>0.188271</td>\n",
       "      <td>0.045651</td>\n",
       "      <td>0.007621</td>\n",
       "      <td>1.000000</td>\n",
       "    </tr>\n",
       "  </tbody>\n",
       "</table>\n",
       "</div>"
      ],
      "text/plain": [
       "               screen_inches  screen_touch  is_discounted  Price_int\n",
       "screen_inches       1.000000     -0.551295      -0.086798   0.188271\n",
       "screen_touch       -0.551295      1.000000       0.062559   0.045651\n",
       "is_discounted      -0.086798      0.062559       1.000000   0.007621\n",
       "Price_int           0.188271      0.045651       0.007621   1.000000"
      ]
     },
     "execution_count": 73,
     "metadata": {},
     "output_type": "execute_result"
    }
   ],
   "source": [
    "df[[ 'Brand', 'screen_inches', 'screen_res', 'screen_touch', 'CPU', 'GPU', 'OS', 'is_discounted','Price_int', 'Shop']].corr()"
   ]
  },
  {
   "cell_type": "code",
   "execution_count": 74,
   "metadata": {},
   "outputs": [
    {
     "data": {
      "text/plain": [
       "<AxesSubplot:>"
      ]
     },
     "execution_count": 74,
     "metadata": {},
     "output_type": "execute_result"
    },
    {
     "data": {
      "image/png": "[encoded data removed]",
      "text/plain": [
       "<Figure size 432x288 with 2 Axes>"
      ]
     },
     "metadata": {
      "needs_background": "light"
     },
     "output_type": "display_data"
    }
   ],
   "source": [
    "cmap = sns.diverging_palette(220, 10, as_cmap=True)\n",
    "sns.heatmap(df[[ 'screen_inches', 'screen_touch', 'is_discounted','Price_int']].corr(),\n",
    "            cmap =cmap, vmax=.3, center=0,square=True, linewidths=.5, cbar_kws={\"shrink\": .5})"
   ]
  },
  {
   "cell_type": "markdown",
   "metadata": {},
   "source": [
    "## =====================Bar Charts===============================\n"
   ]
  },
  {
   "cell_type": "code",
   "execution_count": 75,
   "metadata": {},
   "outputs": [],
   "source": [
    "df.columns\n",
    "df_cat = df[['Brand', 'screen_res', 'screen_touch','RAM', 'CPU', 'disk_hdd',\n",
    "       'disk_ssd', 'disk_flash', 'disk_emmc', 'GPU', 'OS', 'is_discounted', 'Shop']]"
   ]
  },
  {
   "cell_type": "code",
   "execution_count": 76,
   "metadata": {},
   "outputs": [
    {
     "name": "stdout",
     "output_type": "stream",
     "text": [
      "graph for Brand\n"
     ]
    },
    {
     "data": {
      "image/png": "[encoded data removed]",
      "text/plain": [
       "<Figure size 432x288 with 1 Axes>"
      ]
     },
     "metadata": {
      "needs_background": "light"
     },
     "output_type": "display_data"
    },
    {
     "name": "stdout",
     "output_type": "stream",
     "text": [
      "graph for screen_res\n"
     ]
    },
    {
     "data": {
      "image/png": "[encoded data removed]",
      "text/plain": [
       "<Figure size 432x288 with 1 Axes>"
      ]
     },
     "metadata": {
      "needs_background": "light"
     },
     "output_type": "display_data"
    },
    {
     "name": "stdout",
     "output_type": "stream",
     "text": [
      "graph for screen_touch\n"
     ]
    },
    {
     "data": {
      "image/png": "[encoded data removed]",
      "text/plain": [
       "<Figure size 432x288 with 1 Axes>"
      ]
     },
     "metadata": {
      "needs_background": "light"
     },
     "output_type": "display_data"
    },
    {
     "name": "stdout",
     "output_type": "stream",
     "text": [
      "graph for RAM\n"
     ]
    },
    {
     "data": {
      "image/png": "[encoded data removed]",
      "text/plain": [
       "<Figure size 432x288 with 1 Axes>"
      ]
     },
     "metadata": {
      "needs_background": "light"
     },
     "output_type": "display_data"
    },
    {
     "name": "stdout",
     "output_type": "stream",
     "text": [
      "graph for CPU\n"
     ]
    },
    {
     "data": {
      "image/png": "[encoded data removed]",
      "text/plain": [
       "<Figure size 432x288 with 1 Axes>"
      ]
     },
     "metadata": {
      "needs_background": "light"
     },
     "output_type": "display_data"
    },
    {
     "name": "stdout",
     "output_type": "stream",
     "text": [
      "graph for disk_hdd\n"
     ]
    },
    {
     "data": {
      "image/png": "[encoded data removed]",
      "text/plain": [
       "<Figure size 432x288 with 1 Axes>"
      ]
     },
     "metadata": {
      "needs_background": "light"
     },
     "output_type": "display_data"
    },
    {
     "name": "stdout",
     "output_type": "stream",
     "text": [
      "graph for disk_ssd\n"
     ]
    },
    {
     "data": {
      "image/png": "[encoded data removed]",
      "text/plain": [
       "<Figure size 432x288 with 1 Axes>"
      ]
     },
     "metadata": {
      "needs_background": "light"
     },
     "output_type": "display_data"
    },
    {
     "name": "stdout",
     "output_type": "stream",
     "text": [
      "graph for disk_flash\n"
     ]
    },
    {
     "data": {
      "image/png": "[encoded data removed]",
      "text/plain": [
       "<Figure size 432x288 with 1 Axes>"
      ]
     },
     "metadata": {
      "needs_background": "light"
     },
     "output_type": "display_data"
    },
    {
     "name": "stdout",
     "output_type": "stream",
     "text": [
      "graph for disk_emmc\n"
     ]
    },
    {
     "data": {
      "image/png": "[encoded data removed]",
      "text/plain": [
       "<Figure size 432x288 with 1 Axes>"
      ]
     },
     "metadata": {
      "needs_background": "light"
     },
     "output_type": "display_data"
    },
    {
     "name": "stdout",
     "output_type": "stream",
     "text": [
      "graph for GPU\n"
     ]
    },
    {
     "data": {
      "image/png": "[encoded data removed]",
      "text/plain": [
       "<Figure size 432x288 with 1 Axes>"
      ]
     },
     "metadata": {
      "needs_background": "light"
     },
     "output_type": "display_data"
    },
    {
     "name": "stdout",
     "output_type": "stream",
     "text": [
      "graph for OS\n"
     ]
    },
    {
     "data": {
      "image/png": "[encoded data removed]",
      "text/plain": [
       "<Figure size 432x288 with 1 Axes>"
      ]
     },
     "metadata": {
      "needs_background": "light"
     },
     "output_type": "display_data"
    },
    {
     "name": "stdout",
     "output_type": "stream",
     "text": [
      "graph for is_discounted\n"
     ]
    },
    {
     "data": {
      "image/png": "[encoded data removed]",
      "text/plain": [
       "<Figure size 432x288 with 1 Axes>"
      ]
     },
     "metadata": {
      "needs_background": "light"
     },
     "output_type": "display_data"
    },
    {
     "name": "stdout",
     "output_type": "stream",
     "text": [
      "graph for Shop\n"
     ]
    },
    {
     "data": {
      "image/png": "[encoded data removed]",
      "text/plain": [
       "<Figure size 432x288 with 1 Axes>"
      ]
     },
     "metadata": {
      "needs_background": "light"
     },
     "output_type": "display_data"
    }
   ],
   "source": [
    "for i in df_cat.columns:\n",
    "    cat_num = df_cat[i].value_counts()\n",
    "    print(\"graph for {}\".format(i))\n",
    "    chart = sns.barplot(x=cat_num.index, y=cat_num)\n",
    "    chart.set_xticklabels(chart.get_xticklabels(), rotation=90)\n",
    "    plt.show()"
   ]
  },
  {
   "cell_type": "markdown",
   "metadata": {},
   "source": [
    "## =====================Pivot tables===============================\n"
   ]
  },
  {
   "cell_type": "code",
   "execution_count": 77,
   "metadata": {},
   "outputs": [
    {
     "data": {
      "text/html": [
       "<div>\n",
       "<style scoped>\n",
       "    .dataframe tbody tr th:only-of-type {\n",
       "        vertical-align: middle;\n",
       "    }\n",
       "\n",
       "    .dataframe tbody tr th {\n",
       "        vertical-align: top;\n",
       "    }\n",
       "\n",
       "    .dataframe thead th {\n",
       "        text-align: right;\n",
       "    }\n",
       "</style>\n",
       "<table border=\"1\" class=\"dataframe\">\n",
       "  <thead>\n",
       "    <tr style=\"text-align: right;\">\n",
       "      <th></th>\n",
       "      <th>Price_int</th>\n",
       "    </tr>\n",
       "    <tr>\n",
       "      <th>Brand</th>\n",
       "      <th></th>\n",
       "    </tr>\n",
       "  </thead>\n",
       "  <tbody>\n",
       "    <tr>\n",
       "      <th>apple</th>\n",
       "      <td>8175.600000</td>\n",
       "    </tr>\n",
       "    <tr>\n",
       "      <th>hiro</th>\n",
       "      <td>7928.047619</td>\n",
       "    </tr>\n",
       "    <tr>\n",
       "      <th>msi</th>\n",
       "      <td>7498.079545</td>\n",
       "    </tr>\n",
       "    <tr>\n",
       "      <th>fujitsu</th>\n",
       "      <td>6539.000000</td>\n",
       "    </tr>\n",
       "    <tr>\n",
       "      <th>microsoft</th>\n",
       "      <td>6304.078125</td>\n",
       "    </tr>\n",
       "    <tr>\n",
       "      <th>asus</th>\n",
       "      <td>6040.912371</td>\n",
       "    </tr>\n",
       "    <tr>\n",
       "      <th>hyperbook</th>\n",
       "      <td>5895.560976</td>\n",
       "    </tr>\n",
       "    <tr>\n",
       "      <th>lg</th>\n",
       "      <td>5812.636364</td>\n",
       "    </tr>\n",
       "    <tr>\n",
       "      <th>dynabook</th>\n",
       "      <td>4530.875000</td>\n",
       "    </tr>\n",
       "    <tr>\n",
       "      <th>huawei</th>\n",
       "      <td>4500.966667</td>\n",
       "    </tr>\n",
       "    <tr>\n",
       "      <th>dell</th>\n",
       "      <td>4419.992647</td>\n",
       "    </tr>\n",
       "    <tr>\n",
       "      <th>hp</th>\n",
       "      <td>4385.586207</td>\n",
       "    </tr>\n",
       "    <tr>\n",
       "      <th>acer</th>\n",
       "      <td>4128.960784</td>\n",
       "    </tr>\n",
       "    <tr>\n",
       "      <th>lenovo</th>\n",
       "      <td>4094.444816</td>\n",
       "    </tr>\n",
       "    <tr>\n",
       "      <th>kruger&amp;matz</th>\n",
       "      <td>949.000000</td>\n",
       "    </tr>\n",
       "    <tr>\n",
       "      <th>kiano</th>\n",
       "      <td>616.500000</td>\n",
       "    </tr>\n",
       "    <tr>\n",
       "      <th>cavion</th>\n",
       "      <td>499.000000</td>\n",
       "    </tr>\n",
       "  </tbody>\n",
       "</table>\n",
       "</div>"
      ],
      "text/plain": [
       "               Price_int\n",
       "Brand                   \n",
       "apple        8175.600000\n",
       "hiro         7928.047619\n",
       "msi          7498.079545\n",
       "fujitsu      6539.000000\n",
       "microsoft    6304.078125\n",
       "asus         6040.912371\n",
       "hyperbook    5895.560976\n",
       "lg           5812.636364\n",
       "dynabook     4530.875000\n",
       "huawei       4500.966667\n",
       "dell         4419.992647\n",
       "hp           4385.586207\n",
       "acer         4128.960784\n",
       "lenovo       4094.444816\n",
       "kruger&matz   949.000000\n",
       "kiano         616.500000\n",
       "cavion        499.000000"
      ]
     },
     "execution_count": 77,
     "metadata": {},
     "output_type": "execute_result"
    }
   ],
   "source": [
    "pd.pivot_table(df, index=\"Brand\", values=\"Price_int\").sort_values(\"Price_int\", ascending=False)"
   ]
  },
  {
   "cell_type": "code",
   "execution_count": 78,
   "metadata": {},
   "outputs": [
    {
     "data": {
      "text/html": [
       "<div>\n",
       "<style scoped>\n",
       "    .dataframe tbody tr th:only-of-type {\n",
       "        vertical-align: middle;\n",
       "    }\n",
       "\n",
       "    .dataframe tbody tr th {\n",
       "        vertical-align: top;\n",
       "    }\n",
       "\n",
       "    .dataframe thead th {\n",
       "        text-align: right;\n",
       "    }\n",
       "</style>\n",
       "<table border=\"1\" class=\"dataframe\">\n",
       "  <thead>\n",
       "    <tr style=\"text-align: right;\">\n",
       "      <th></th>\n",
       "      <th></th>\n",
       "      <th>Price_int</th>\n",
       "    </tr>\n",
       "    <tr>\n",
       "      <th>Brand</th>\n",
       "      <th>Shop</th>\n",
       "      <th></th>\n",
       "    </tr>\n",
       "  </thead>\n",
       "  <tbody>\n",
       "    <tr>\n",
       "      <th rowspan=\"2\" valign=\"top\">acer</th>\n",
       "      <th>eurortvagd</th>\n",
       "      <td>3338.750000</td>\n",
       "    </tr>\n",
       "    <tr>\n",
       "      <th>mediaexpert</th>\n",
       "      <td>4447.944954</td>\n",
       "    </tr>\n",
       "    <tr>\n",
       "      <th rowspan=\"2\" valign=\"top\">apple</th>\n",
       "      <th>eurortvagd</th>\n",
       "      <td>8971.000000</td>\n",
       "    </tr>\n",
       "    <tr>\n",
       "      <th>mediaexpert</th>\n",
       "      <td>7512.766667</td>\n",
       "    </tr>\n",
       "    <tr>\n",
       "      <th rowspan=\"2\" valign=\"top\">asus</th>\n",
       "      <th>eurortvagd</th>\n",
       "      <td>6480.616162</td>\n",
       "    </tr>\n",
       "    <tr>\n",
       "      <th>mediaexpert</th>\n",
       "      <td>5582.694737</td>\n",
       "    </tr>\n",
       "    <tr>\n",
       "      <th>cavion</th>\n",
       "      <th>eurortvagd</th>\n",
       "      <td>499.000000</td>\n",
       "    </tr>\n",
       "    <tr>\n",
       "      <th rowspan=\"2\" valign=\"top\">dell</th>\n",
       "      <th>eurortvagd</th>\n",
       "      <td>4291.033898</td>\n",
       "    </tr>\n",
       "    <tr>\n",
       "      <th>mediaexpert</th>\n",
       "      <td>4518.805195</td>\n",
       "    </tr>\n",
       "    <tr>\n",
       "      <th>dynabook</th>\n",
       "      <th>mediaexpert</th>\n",
       "      <td>4530.875000</td>\n",
       "    </tr>\n",
       "    <tr>\n",
       "      <th>fujitsu</th>\n",
       "      <th>mediaexpert</th>\n",
       "      <td>6539.000000</td>\n",
       "    </tr>\n",
       "    <tr>\n",
       "      <th rowspan=\"2\" valign=\"top\">hiro</th>\n",
       "      <th>eurortvagd</th>\n",
       "      <td>6324.000000</td>\n",
       "    </tr>\n",
       "    <tr>\n",
       "      <th>mediaexpert</th>\n",
       "      <td>8305.470588</td>\n",
       "    </tr>\n",
       "    <tr>\n",
       "      <th rowspan=\"2\" valign=\"top\">hp</th>\n",
       "      <th>eurortvagd</th>\n",
       "      <td>4107.720930</td>\n",
       "    </tr>\n",
       "    <tr>\n",
       "      <th>mediaexpert</th>\n",
       "      <td>4790.610169</td>\n",
       "    </tr>\n",
       "    <tr>\n",
       "      <th rowspan=\"2\" valign=\"top\">huawei</th>\n",
       "      <th>eurortvagd</th>\n",
       "      <td>4366.368421</td>\n",
       "    </tr>\n",
       "    <tr>\n",
       "      <th>mediaexpert</th>\n",
       "      <td>4733.454545</td>\n",
       "    </tr>\n",
       "    <tr>\n",
       "      <th>hyperbook</th>\n",
       "      <th>mediaexpert</th>\n",
       "      <td>5895.560976</td>\n",
       "    </tr>\n",
       "    <tr>\n",
       "      <th>kiano</th>\n",
       "      <th>mediaexpert</th>\n",
       "      <td>616.500000</td>\n",
       "    </tr>\n",
       "    <tr>\n",
       "      <th>kruger&amp;matz</th>\n",
       "      <th>mediaexpert</th>\n",
       "      <td>949.000000</td>\n",
       "    </tr>\n",
       "    <tr>\n",
       "      <th rowspan=\"2\" valign=\"top\">lenovo</th>\n",
       "      <th>eurortvagd</th>\n",
       "      <td>4306.975155</td>\n",
       "    </tr>\n",
       "    <tr>\n",
       "      <th>mediaexpert</th>\n",
       "      <td>3846.492754</td>\n",
       "    </tr>\n",
       "    <tr>\n",
       "      <th rowspan=\"2\" valign=\"top\">lg</th>\n",
       "      <th>eurortvagd</th>\n",
       "      <td>5917.750000</td>\n",
       "    </tr>\n",
       "    <tr>\n",
       "      <th>mediaexpert</th>\n",
       "      <td>5532.333333</td>\n",
       "    </tr>\n",
       "    <tr>\n",
       "      <th rowspan=\"2\" valign=\"top\">microsoft</th>\n",
       "      <th>eurortvagd</th>\n",
       "      <td>7216.027027</td>\n",
       "    </tr>\n",
       "    <tr>\n",
       "      <th>mediaexpert</th>\n",
       "      <td>5054.370370</td>\n",
       "    </tr>\n",
       "    <tr>\n",
       "      <th rowspan=\"2\" valign=\"top\">msi</th>\n",
       "      <th>eurortvagd</th>\n",
       "      <td>7428.347826</td>\n",
       "    </tr>\n",
       "    <tr>\n",
       "      <th>mediaexpert</th>\n",
       "      <td>7574.452381</td>\n",
       "    </tr>\n",
       "  </tbody>\n",
       "</table>\n",
       "</div>"
      ],
      "text/plain": [
       "                           Price_int\n",
       "Brand       Shop                    \n",
       "acer        eurortvagd   3338.750000\n",
       "            mediaexpert  4447.944954\n",
       "apple       eurortvagd   8971.000000\n",
       "            mediaexpert  7512.766667\n",
       "asus        eurortvagd   6480.616162\n",
       "            mediaexpert  5582.694737\n",
       "cavion      eurortvagd    499.000000\n",
       "dell        eurortvagd   4291.033898\n",
       "            mediaexpert  4518.805195\n",
       "dynabook    mediaexpert  4530.875000\n",
       "fujitsu     mediaexpert  6539.000000\n",
       "hiro        eurortvagd   6324.000000\n",
       "            mediaexpert  8305.470588\n",
       "hp          eurortvagd   4107.720930\n",
       "            mediaexpert  4790.610169\n",
       "huawei      eurortvagd   4366.368421\n",
       "            mediaexpert  4733.454545\n",
       "hyperbook   mediaexpert  5895.560976\n",
       "kiano       mediaexpert   616.500000\n",
       "kruger&matz mediaexpert   949.000000\n",
       "lenovo      eurortvagd   4306.975155\n",
       "            mediaexpert  3846.492754\n",
       "lg          eurortvagd   5917.750000\n",
       "            mediaexpert  5532.333333\n",
       "microsoft   eurortvagd   7216.027027\n",
       "            mediaexpert  5054.370370\n",
       "msi         eurortvagd   7428.347826\n",
       "            mediaexpert  7574.452381"
      ]
     },
     "execution_count": 78,
     "metadata": {},
     "output_type": "execute_result"
    }
   ],
   "source": [
    "pd.pivot_table(df, index=[\"Brand\",\"Shop\",], values=\"Price_int\")"
   ]
  },
  {
   "cell_type": "code",
   "execution_count": 79,
   "metadata": {},
   "outputs": [
    {
     "data": {
      "text/html": [
       "<div>\n",
       "<style scoped>\n",
       "    .dataframe tbody tr th:only-of-type {\n",
       "        vertical-align: middle;\n",
       "    }\n",
       "\n",
       "    .dataframe tbody tr th {\n",
       "        vertical-align: top;\n",
       "    }\n",
       "\n",
       "    .dataframe thead th {\n",
       "        text-align: right;\n",
       "    }\n",
       "</style>\n",
       "<table border=\"1\" class=\"dataframe\">\n",
       "  <thead>\n",
       "    <tr style=\"text-align: right;\">\n",
       "      <th></th>\n",
       "      <th>Price_int</th>\n",
       "    </tr>\n",
       "    <tr>\n",
       "      <th>GPU</th>\n",
       "      <th></th>\n",
       "    </tr>\n",
       "  </thead>\n",
       "  <tbody>\n",
       "    <tr>\n",
       "      <th>quadro rtx</th>\n",
       "      <td>15424.000000</td>\n",
       "    </tr>\n",
       "    <tr>\n",
       "      <th>radeon pro</th>\n",
       "      <td>11785.500000</td>\n",
       "    </tr>\n",
       "    <tr>\n",
       "      <th>geforce rtx</th>\n",
       "      <td>9087.090000</td>\n",
       "    </tr>\n",
       "    <tr>\n",
       "      <th>geforce gtx</th>\n",
       "      <td>4735.916084</td>\n",
       "    </tr>\n",
       "    <tr>\n",
       "      <th>geforce mx</th>\n",
       "      <td>4303.432099</td>\n",
       "    </tr>\n",
       "    <tr>\n",
       "      <th>radeon rx</th>\n",
       "      <td>4273.241379</td>\n",
       "    </tr>\n",
       "    <tr>\n",
       "      <th>integrated</th>\n",
       "      <td>4217.365672</td>\n",
       "    </tr>\n",
       "    <tr>\n",
       "      <th>other</th>\n",
       "      <td>3888.095238</td>\n",
       "    </tr>\n",
       "    <tr>\n",
       "      <th>radeon vega</th>\n",
       "      <td>3043.500000</td>\n",
       "    </tr>\n",
       "    <tr>\n",
       "      <th>radeon 5</th>\n",
       "      <td>2799.000000</td>\n",
       "    </tr>\n",
       "    <tr>\n",
       "      <th>radeon r</th>\n",
       "      <td>1533.153846</td>\n",
       "    </tr>\n",
       "  </tbody>\n",
       "</table>\n",
       "</div>"
      ],
      "text/plain": [
       "                Price_int\n",
       "GPU                      \n",
       "quadro rtx   15424.000000\n",
       "radeon pro   11785.500000\n",
       "geforce rtx   9087.090000\n",
       "geforce gtx   4735.916084\n",
       "geforce mx    4303.432099\n",
       "radeon rx     4273.241379\n",
       "integrated    4217.365672\n",
       "other         3888.095238\n",
       "radeon vega   3043.500000\n",
       "radeon 5      2799.000000\n",
       "radeon r      1533.153846"
      ]
     },
     "execution_count": 79,
     "metadata": {},
     "output_type": "execute_result"
    }
   ],
   "source": [
    "pd.pivot_table(df, index=\"GPU\", values=\"Price_int\").sort_values(\"Price_int\", ascending=False)"
   ]
  },
  {
   "cell_type": "code",
   "execution_count": 80,
   "metadata": {},
   "outputs": [
    {
     "data": {
      "text/html": [
       "<div>\n",
       "<style scoped>\n",
       "    .dataframe tbody tr th:only-of-type {\n",
       "        vertical-align: middle;\n",
       "    }\n",
       "\n",
       "    .dataframe tbody tr th {\n",
       "        vertical-align: top;\n",
       "    }\n",
       "\n",
       "    .dataframe thead th {\n",
       "        text-align: right;\n",
       "    }\n",
       "</style>\n",
       "<table border=\"1\" class=\"dataframe\">\n",
       "  <thead>\n",
       "    <tr style=\"text-align: right;\">\n",
       "      <th></th>\n",
       "      <th>Price_int</th>\n",
       "    </tr>\n",
       "    <tr>\n",
       "      <th>CPU</th>\n",
       "      <th></th>\n",
       "    </tr>\n",
       "  </thead>\n",
       "  <tbody>\n",
       "    <tr>\n",
       "      <th>i9</th>\n",
       "      <td>13621.730769</td>\n",
       "    </tr>\n",
       "    <tr>\n",
       "      <th>xeon</th>\n",
       "      <td>8999.000000</td>\n",
       "    </tr>\n",
       "    <tr>\n",
       "      <th>i7</th>\n",
       "      <td>7525.814433</td>\n",
       "    </tr>\n",
       "    <tr>\n",
       "      <th>ryzen 7</th>\n",
       "      <td>4855.436620</td>\n",
       "    </tr>\n",
       "    <tr>\n",
       "      <th>i5</th>\n",
       "      <td>4286.021277</td>\n",
       "    </tr>\n",
       "    <tr>\n",
       "      <th>ryzen 5</th>\n",
       "      <td>3337.849057</td>\n",
       "    </tr>\n",
       "    <tr>\n",
       "      <th>i3</th>\n",
       "      <td>2581.828947</td>\n",
       "    </tr>\n",
       "    <tr>\n",
       "      <th>other</th>\n",
       "      <td>2555.871795</td>\n",
       "    </tr>\n",
       "    <tr>\n",
       "      <th>ryzen 3</th>\n",
       "      <td>2477.947368</td>\n",
       "    </tr>\n",
       "    <tr>\n",
       "      <th>athlon</th>\n",
       "      <td>2174.000000</td>\n",
       "    </tr>\n",
       "    <tr>\n",
       "      <th>pentium</th>\n",
       "      <td>1995.666667</td>\n",
       "    </tr>\n",
       "    <tr>\n",
       "      <th>celeron</th>\n",
       "      <td>1195.363636</td>\n",
       "    </tr>\n",
       "  </tbody>\n",
       "</table>\n",
       "</div>"
      ],
      "text/plain": [
       "            Price_int\n",
       "CPU                  \n",
       "i9       13621.730769\n",
       "xeon      8999.000000\n",
       "i7        7525.814433\n",
       "ryzen 7   4855.436620\n",
       "i5        4286.021277\n",
       "ryzen 5   3337.849057\n",
       "i3        2581.828947\n",
       "other     2555.871795\n",
       "ryzen 3   2477.947368\n",
       "athlon    2174.000000\n",
       "pentium   1995.666667\n",
       "celeron   1195.363636"
      ]
     },
     "execution_count": 80,
     "metadata": {},
     "output_type": "execute_result"
    }
   ],
   "source": [
    "pd.pivot_table(df, index=\"CPU\", values=\"Price_int\").sort_values(\"Price_int\", ascending=False)"
   ]
  },
  {
   "cell_type": "code",
   "execution_count": 81,
   "metadata": {},
   "outputs": [
    {
     "data": {
      "text/html": [
       "<div>\n",
       "<style scoped>\n",
       "    .dataframe tbody tr th:only-of-type {\n",
       "        vertical-align: middle;\n",
       "    }\n",
       "\n",
       "    .dataframe tbody tr th {\n",
       "        vertical-align: top;\n",
       "    }\n",
       "\n",
       "    .dataframe thead th {\n",
       "        text-align: right;\n",
       "    }\n",
       "</style>\n",
       "<table border=\"1\" class=\"dataframe\">\n",
       "  <thead>\n",
       "    <tr style=\"text-align: right;\">\n",
       "      <th></th>\n",
       "      <th>Price_int</th>\n",
       "    </tr>\n",
       "    <tr>\n",
       "      <th>screen_res</th>\n",
       "      <th></th>\n",
       "    </tr>\n",
       "  </thead>\n",
       "  <tbody>\n",
       "    <tr>\n",
       "      <th>3072x1920</th>\n",
       "      <td>12410.000000</td>\n",
       "    </tr>\n",
       "    <tr>\n",
       "      <th>2880x1800</th>\n",
       "      <td>12099.000000</td>\n",
       "    </tr>\n",
       "    <tr>\n",
       "      <th>3840x2160</th>\n",
       "      <td>11161.758621</td>\n",
       "    </tr>\n",
       "    <tr>\n",
       "      <th>3240x2160</th>\n",
       "      <td>10999.000000</td>\n",
       "    </tr>\n",
       "    <tr>\n",
       "      <th>3000x2000</th>\n",
       "      <td>8767.125000</td>\n",
       "    </tr>\n",
       "    <tr>\n",
       "      <th>2560x1600</th>\n",
       "      <td>7143.818182</td>\n",
       "    </tr>\n",
       "    <tr>\n",
       "      <th>2740x1824</th>\n",
       "      <td>6999.000000</td>\n",
       "    </tr>\n",
       "    <tr>\n",
       "      <th>2560x1440</th>\n",
       "      <td>6763.000000</td>\n",
       "    </tr>\n",
       "    <tr>\n",
       "      <th>2256x1504</th>\n",
       "      <td>6442.444444</td>\n",
       "    </tr>\n",
       "    <tr>\n",
       "      <th>2496x1664</th>\n",
       "      <td>6436.000000</td>\n",
       "    </tr>\n",
       "    <tr>\n",
       "      <th>2304x1440</th>\n",
       "      <td>6316.666667</td>\n",
       "    </tr>\n",
       "    <tr>\n",
       "      <th>2736x1824</th>\n",
       "      <td>6084.500000</td>\n",
       "    </tr>\n",
       "    <tr>\n",
       "      <th>2880x1920</th>\n",
       "      <td>5917.200000</td>\n",
       "    </tr>\n",
       "    <tr>\n",
       "      <th>2880x1620</th>\n",
       "      <td>5499.000000</td>\n",
       "    </tr>\n",
       "    <tr>\n",
       "      <th>1920x1080</th>\n",
       "      <td>4859.236944</td>\n",
       "    </tr>\n",
       "    <tr>\n",
       "      <th>2160x1440</th>\n",
       "      <td>3943.454545</td>\n",
       "    </tr>\n",
       "    <tr>\n",
       "      <th>1440x900</th>\n",
       "      <td>3799.000000</td>\n",
       "    </tr>\n",
       "    <tr>\n",
       "      <th>1920x1280</th>\n",
       "      <td>2732.333333</td>\n",
       "    </tr>\n",
       "    <tr>\n",
       "      <th>1800x1200</th>\n",
       "      <td>2355.000000</td>\n",
       "    </tr>\n",
       "    <tr>\n",
       "      <th>3200x1800</th>\n",
       "      <td>2249.000000</td>\n",
       "    </tr>\n",
       "    <tr>\n",
       "      <th>1600x900</th>\n",
       "      <td>2111.500000</td>\n",
       "    </tr>\n",
       "    <tr>\n",
       "      <th>1366x768</th>\n",
       "      <td>1266.909091</td>\n",
       "    </tr>\n",
       "    <tr>\n",
       "      <th>1280x800</th>\n",
       "      <td>919.000000</td>\n",
       "    </tr>\n",
       "    <tr>\n",
       "      <th>1024x600</th>\n",
       "      <td>499.000000</td>\n",
       "    </tr>\n",
       "  </tbody>\n",
       "</table>\n",
       "</div>"
      ],
      "text/plain": [
       "               Price_int\n",
       "screen_res              \n",
       "3072x1920   12410.000000\n",
       "2880x1800   12099.000000\n",
       "3840x2160   11161.758621\n",
       "3240x2160   10999.000000\n",
       "3000x2000    8767.125000\n",
       "2560x1600    7143.818182\n",
       "2740x1824    6999.000000\n",
       "2560x1440    6763.000000\n",
       "2256x1504    6442.444444\n",
       "2496x1664    6436.000000\n",
       "2304x1440    6316.666667\n",
       "2736x1824    6084.500000\n",
       "2880x1920    5917.200000\n",
       "2880x1620    5499.000000\n",
       "1920x1080    4859.236944\n",
       "2160x1440    3943.454545\n",
       "1440x900     3799.000000\n",
       "1920x1280    2732.333333\n",
       "1800x1200    2355.000000\n",
       "3200x1800    2249.000000\n",
       "1600x900     2111.500000\n",
       "1366x768     1266.909091\n",
       "1280x800      919.000000\n",
       "1024x600      499.000000"
      ]
     },
     "execution_count": 81,
     "metadata": {},
     "output_type": "execute_result"
    }
   ],
   "source": [
    "pd.pivot_table(df, index=\"screen_res\", values=\"Price_int\").sort_values(\"Price_int\", ascending=False)"
   ]
  },
  {
   "cell_type": "code",
   "execution_count": 82,
   "metadata": {},
   "outputs": [
    {
     "data": {
      "text/html": [
       "<div>\n",
       "<style scoped>\n",
       "    .dataframe tbody tr th:only-of-type {\n",
       "        vertical-align: middle;\n",
       "    }\n",
       "\n",
       "    .dataframe tbody tr th {\n",
       "        vertical-align: top;\n",
       "    }\n",
       "\n",
       "    .dataframe thead th {\n",
       "        text-align: right;\n",
       "    }\n",
       "</style>\n",
       "<table border=\"1\" class=\"dataframe\">\n",
       "  <thead>\n",
       "    <tr style=\"text-align: right;\">\n",
       "      <th></th>\n",
       "      <th>Price_int</th>\n",
       "    </tr>\n",
       "    <tr>\n",
       "      <th>screen_inches</th>\n",
       "      <th></th>\n",
       "    </tr>\n",
       "  </thead>\n",
       "  <tbody>\n",
       "    <tr>\n",
       "      <th>16.0</th>\n",
       "      <td>12410.000000</td>\n",
       "    </tr>\n",
       "    <tr>\n",
       "      <th>15.4</th>\n",
       "      <td>12099.000000</td>\n",
       "    </tr>\n",
       "    <tr>\n",
       "      <th>13.4</th>\n",
       "      <td>10432.333333</td>\n",
       "    </tr>\n",
       "    <tr>\n",
       "      <th>13.5</th>\n",
       "      <td>8605.066667</td>\n",
       "    </tr>\n",
       "    <tr>\n",
       "      <th>17.3</th>\n",
       "      <td>7681.819048</td>\n",
       "    </tr>\n",
       "    <tr>\n",
       "      <th>15.0</th>\n",
       "      <td>7348.600000</td>\n",
       "    </tr>\n",
       "    <tr>\n",
       "      <th>17.0</th>\n",
       "      <td>7049.000000</td>\n",
       "    </tr>\n",
       "    <tr>\n",
       "      <th>13.9</th>\n",
       "      <td>6472.478261</td>\n",
       "    </tr>\n",
       "    <tr>\n",
       "      <th>12.3</th>\n",
       "      <td>6114.000000</td>\n",
       "    </tr>\n",
       "    <tr>\n",
       "      <th>13.3</th>\n",
       "      <td>5682.416667</td>\n",
       "    </tr>\n",
       "    <tr>\n",
       "      <th>12.1</th>\n",
       "      <td>5575.500000</td>\n",
       "    </tr>\n",
       "    <tr>\n",
       "      <th>12.0</th>\n",
       "      <td>5265.666667</td>\n",
       "    </tr>\n",
       "    <tr>\n",
       "      <th>15.6</th>\n",
       "      <td>4856.387970</td>\n",
       "    </tr>\n",
       "    <tr>\n",
       "      <th>13.0</th>\n",
       "      <td>4640.428571</td>\n",
       "    </tr>\n",
       "    <tr>\n",
       "      <th>14.0</th>\n",
       "      <td>4018.240506</td>\n",
       "    </tr>\n",
       "    <tr>\n",
       "      <th>12.5</th>\n",
       "      <td>3599.000000</td>\n",
       "    </tr>\n",
       "    <tr>\n",
       "      <th>10.5</th>\n",
       "      <td>2886.500000</td>\n",
       "    </tr>\n",
       "    <tr>\n",
       "      <th>10.0</th>\n",
       "      <td>2355.000000</td>\n",
       "    </tr>\n",
       "    <tr>\n",
       "      <th>14.1</th>\n",
       "      <td>1681.500000</td>\n",
       "    </tr>\n",
       "    <tr>\n",
       "      <th>11.6</th>\n",
       "      <td>1134.833333</td>\n",
       "    </tr>\n",
       "    <tr>\n",
       "      <th>10.1</th>\n",
       "      <td>849.000000</td>\n",
       "    </tr>\n",
       "  </tbody>\n",
       "</table>\n",
       "</div>"
      ],
      "text/plain": [
       "                  Price_int\n",
       "screen_inches              \n",
       "16.0           12410.000000\n",
       "15.4           12099.000000\n",
       "13.4           10432.333333\n",
       "13.5            8605.066667\n",
       "17.3            7681.819048\n",
       "15.0            7348.600000\n",
       "17.0            7049.000000\n",
       "13.9            6472.478261\n",
       "12.3            6114.000000\n",
       "13.3            5682.416667\n",
       "12.1            5575.500000\n",
       "12.0            5265.666667\n",
       "15.6            4856.387970\n",
       "13.0            4640.428571\n",
       "14.0            4018.240506\n",
       "12.5            3599.000000\n",
       "10.5            2886.500000\n",
       "10.0            2355.000000\n",
       "14.1            1681.500000\n",
       "11.6            1134.833333\n",
       "10.1             849.000000"
      ]
     },
     "execution_count": 82,
     "metadata": {},
     "output_type": "execute_result"
    }
   ],
   "source": [
    "pd.pivot_table(df, index=\"screen_inches\", values=\"Price_int\").sort_values(\"Price_int\", ascending=False)"
   ]
  },
  {
   "cell_type": "markdown",
   "metadata": {},
   "source": [
    "## =====================Word Cloud===============================\n"
   ]
  },
  {
   "cell_type": "code",
   "execution_count": 83,
   "metadata": {},
   "outputs": [],
   "source": [
    "from wordcloud import WordCloud, ImageColorGenerator, STOPWORDS\n",
    "from nltk.corpus import stopwords\n",
    "from nltk.tokenize import word_tokenize"
   ]
  },
  {
   "cell_type": "code",
   "execution_count": 85,
   "metadata": {},
   "outputs": [
    {
     "ename": "OSError",
     "evalue": "No such file or directory: 'C:\\\\Users\\\\Pepe\\\\AppData\\\\Roaming\\\\nltk_data\\\\corpora\\\\stopwords\\\\polish'",
     "output_type": "error",
     "traceback": [
      "\u001b[1;31m---------------------------------------------------------------------------\u001b[0m",
      "\u001b[1;31mOSError\u001b[0m                                   Traceback (most recent call last)",
      "\u001b[1;32m<ipython-input-85-11d4a02f9633>\u001b[0m in \u001b[0;36m<module>\u001b[1;34m\u001b[0m\n\u001b[0;32m     10\u001b[0m     \u001b[1;32mreturn\u001b[0m \u001b[0mfiltered\u001b[0m\u001b[1;33m\u001b[0m\u001b[1;33m\u001b[0m\u001b[0m\n\u001b[0;32m     11\u001b[0m \u001b[1;33m\u001b[0m\u001b[0m\n\u001b[1;32m---> 12\u001b[1;33m \u001b[0mwords_filtered\u001b[0m \u001b[1;33m=\u001b[0m \u001b[0mpunctuation_stop\u001b[0m\u001b[1;33m(\u001b[0m\u001b[0mwords\u001b[0m\u001b[1;33m)\u001b[0m\u001b[1;33m\u001b[0m\u001b[1;33m\u001b[0m\u001b[0m\n\u001b[0m\u001b[0;32m     13\u001b[0m \u001b[1;33m\u001b[0m\u001b[0m\n\u001b[0;32m     14\u001b[0m \u001b[0mtext\u001b[0m \u001b[1;33m=\u001b[0m \u001b[1;34m\" \"\u001b[0m\u001b[1;33m.\u001b[0m\u001b[0mjoin\u001b[0m\u001b[1;33m(\u001b[0m\u001b[1;33m[\u001b[0m\u001b[0mele\u001b[0m \u001b[1;32mfor\u001b[0m \u001b[0mele\u001b[0m \u001b[1;32min\u001b[0m \u001b[0mwords_filtered\u001b[0m\u001b[1;33m]\u001b[0m\u001b[1;33m)\u001b[0m\u001b[1;33m\u001b[0m\u001b[1;33m\u001b[0m\u001b[0m\n",
      "\u001b[1;32m<ipython-input-85-11d4a02f9633>\u001b[0m in \u001b[0;36mpunctuation_stop\u001b[1;34m(text)\u001b[0m\n\u001b[0;32m      3\u001b[0m \u001b[1;32mdef\u001b[0m \u001b[0mpunctuation_stop\u001b[0m\u001b[1;33m(\u001b[0m\u001b[0mtext\u001b[0m\u001b[1;33m)\u001b[0m\u001b[1;33m:\u001b[0m\u001b[1;33m\u001b[0m\u001b[1;33m\u001b[0m\u001b[0m\n\u001b[0;32m      4\u001b[0m     \u001b[0mfiltered\u001b[0m \u001b[1;33m=\u001b[0m \u001b[1;33m[\u001b[0m\u001b[1;33m]\u001b[0m\u001b[1;33m\u001b[0m\u001b[1;33m\u001b[0m\u001b[0m\n\u001b[1;32m----> 5\u001b[1;33m     \u001b[0mstop_words\u001b[0m \u001b[1;33m=\u001b[0m \u001b[0mset\u001b[0m\u001b[1;33m(\u001b[0m\u001b[0mstopwords\u001b[0m\u001b[1;33m.\u001b[0m\u001b[0mwords\u001b[0m\u001b[1;33m(\u001b[0m\u001b[1;34m'polish'\u001b[0m\u001b[1;33m)\u001b[0m\u001b[1;33m)\u001b[0m\u001b[1;33m\u001b[0m\u001b[1;33m\u001b[0m\u001b[0m\n\u001b[0m\u001b[0;32m      6\u001b[0m     \u001b[0mword_tokens\u001b[0m \u001b[1;33m=\u001b[0m \u001b[0mword_tokenize\u001b[0m\u001b[1;33m(\u001b[0m\u001b[0mtext\u001b[0m\u001b[1;33m)\u001b[0m\u001b[1;33m\u001b[0m\u001b[1;33m\u001b[0m\u001b[0m\n\u001b[0;32m      7\u001b[0m     \u001b[1;32mfor\u001b[0m \u001b[0mw\u001b[0m \u001b[1;32min\u001b[0m \u001b[0mword_tokens\u001b[0m\u001b[1;33m:\u001b[0m\u001b[1;33m\u001b[0m\u001b[1;33m\u001b[0m\u001b[0m\n",
      "\u001b[1;32m~\\anaconda3\\envs\\py3-TF2.0\\lib\\site-packages\\nltk\\corpus\\reader\\wordlist.py\u001b[0m in \u001b[0;36mwords\u001b[1;34m(self, fileids, ignore_lines_startswith)\u001b[0m\n\u001b[0;32m     21\u001b[0m         return [\n\u001b[0;32m     22\u001b[0m             \u001b[0mline\u001b[0m\u001b[1;33m\u001b[0m\u001b[1;33m\u001b[0m\u001b[0m\n\u001b[1;32m---> 23\u001b[1;33m             \u001b[1;32mfor\u001b[0m \u001b[0mline\u001b[0m \u001b[1;32min\u001b[0m \u001b[0mline_tokenize\u001b[0m\u001b[1;33m(\u001b[0m\u001b[0mself\u001b[0m\u001b[1;33m.\u001b[0m\u001b[0mraw\u001b[0m\u001b[1;33m(\u001b[0m\u001b[0mfileids\u001b[0m\u001b[1;33m)\u001b[0m\u001b[1;33m)\u001b[0m\u001b[1;33m\u001b[0m\u001b[1;33m\u001b[0m\u001b[0m\n\u001b[0m\u001b[0;32m     24\u001b[0m             \u001b[1;32mif\u001b[0m \u001b[1;32mnot\u001b[0m \u001b[0mline\u001b[0m\u001b[1;33m.\u001b[0m\u001b[0mstartswith\u001b[0m\u001b[1;33m(\u001b[0m\u001b[0mignore_lines_startswith\u001b[0m\u001b[1;33m)\u001b[0m\u001b[1;33m\u001b[0m\u001b[1;33m\u001b[0m\u001b[0m\n\u001b[0;32m     25\u001b[0m         ]\n",
      "\u001b[1;32m~\\anaconda3\\envs\\py3-TF2.0\\lib\\site-packages\\nltk\\corpus\\reader\\wordlist.py\u001b[0m in \u001b[0;36mraw\u001b[1;34m(self, fileids)\u001b[0m\n\u001b[0;32m     30\u001b[0m         \u001b[1;32melif\u001b[0m \u001b[0misinstance\u001b[0m\u001b[1;33m(\u001b[0m\u001b[0mfileids\u001b[0m\u001b[1;33m,\u001b[0m \u001b[0mstr\u001b[0m\u001b[1;33m)\u001b[0m\u001b[1;33m:\u001b[0m\u001b[1;33m\u001b[0m\u001b[1;33m\u001b[0m\u001b[0m\n\u001b[0;32m     31\u001b[0m             \u001b[0mfileids\u001b[0m \u001b[1;33m=\u001b[0m \u001b[1;33m[\u001b[0m\u001b[0mfileids\u001b[0m\u001b[1;33m]\u001b[0m\u001b[1;33m\u001b[0m\u001b[1;33m\u001b[0m\u001b[0m\n\u001b[1;32m---> 32\u001b[1;33m         \u001b[1;32mreturn\u001b[0m \u001b[0mconcat\u001b[0m\u001b[1;33m(\u001b[0m\u001b[1;33m[\u001b[0m\u001b[0mself\u001b[0m\u001b[1;33m.\u001b[0m\u001b[0mopen\u001b[0m\u001b[1;33m(\u001b[0m\u001b[0mf\u001b[0m\u001b[1;33m)\u001b[0m\u001b[1;33m.\u001b[0m\u001b[0mread\u001b[0m\u001b[1;33m(\u001b[0m\u001b[1;33m)\u001b[0m \u001b[1;32mfor\u001b[0m \u001b[0mf\u001b[0m \u001b[1;32min\u001b[0m \u001b[0mfileids\u001b[0m\u001b[1;33m]\u001b[0m\u001b[1;33m)\u001b[0m\u001b[1;33m\u001b[0m\u001b[1;33m\u001b[0m\u001b[0m\n\u001b[0m\u001b[0;32m     33\u001b[0m \u001b[1;33m\u001b[0m\u001b[0m\n\u001b[0;32m     34\u001b[0m \u001b[1;33m\u001b[0m\u001b[0m\n",
      "\u001b[1;32m~\\anaconda3\\envs\\py3-TF2.0\\lib\\site-packages\\nltk\\corpus\\reader\\wordlist.py\u001b[0m in \u001b[0;36m<listcomp>\u001b[1;34m(.0)\u001b[0m\n\u001b[0;32m     30\u001b[0m         \u001b[1;32melif\u001b[0m \u001b[0misinstance\u001b[0m\u001b[1;33m(\u001b[0m\u001b[0mfileids\u001b[0m\u001b[1;33m,\u001b[0m \u001b[0mstr\u001b[0m\u001b[1;33m)\u001b[0m\u001b[1;33m:\u001b[0m\u001b[1;33m\u001b[0m\u001b[1;33m\u001b[0m\u001b[0m\n\u001b[0;32m     31\u001b[0m             \u001b[0mfileids\u001b[0m \u001b[1;33m=\u001b[0m \u001b[1;33m[\u001b[0m\u001b[0mfileids\u001b[0m\u001b[1;33m]\u001b[0m\u001b[1;33m\u001b[0m\u001b[1;33m\u001b[0m\u001b[0m\n\u001b[1;32m---> 32\u001b[1;33m         \u001b[1;32mreturn\u001b[0m \u001b[0mconcat\u001b[0m\u001b[1;33m(\u001b[0m\u001b[1;33m[\u001b[0m\u001b[0mself\u001b[0m\u001b[1;33m.\u001b[0m\u001b[0mopen\u001b[0m\u001b[1;33m(\u001b[0m\u001b[0mf\u001b[0m\u001b[1;33m)\u001b[0m\u001b[1;33m.\u001b[0m\u001b[0mread\u001b[0m\u001b[1;33m(\u001b[0m\u001b[1;33m)\u001b[0m \u001b[1;32mfor\u001b[0m \u001b[0mf\u001b[0m \u001b[1;32min\u001b[0m \u001b[0mfileids\u001b[0m\u001b[1;33m]\u001b[0m\u001b[1;33m)\u001b[0m\u001b[1;33m\u001b[0m\u001b[1;33m\u001b[0m\u001b[0m\n\u001b[0m\u001b[0;32m     33\u001b[0m \u001b[1;33m\u001b[0m\u001b[0m\n\u001b[0;32m     34\u001b[0m \u001b[1;33m\u001b[0m\u001b[0m\n",
      "\u001b[1;32m~\\anaconda3\\envs\\py3-TF2.0\\lib\\site-packages\\nltk\\corpus\\reader\\api.py\u001b[0m in \u001b[0;36mopen\u001b[1;34m(self, file)\u001b[0m\n\u001b[0;32m    206\u001b[0m         \"\"\"\n\u001b[0;32m    207\u001b[0m         \u001b[0mencoding\u001b[0m \u001b[1;33m=\u001b[0m \u001b[0mself\u001b[0m\u001b[1;33m.\u001b[0m\u001b[0mencoding\u001b[0m\u001b[1;33m(\u001b[0m\u001b[0mfile\u001b[0m\u001b[1;33m)\u001b[0m\u001b[1;33m\u001b[0m\u001b[1;33m\u001b[0m\u001b[0m\n\u001b[1;32m--> 208\u001b[1;33m         \u001b[0mstream\u001b[0m \u001b[1;33m=\u001b[0m \u001b[0mself\u001b[0m\u001b[1;33m.\u001b[0m\u001b[0m_root\u001b[0m\u001b[1;33m.\u001b[0m\u001b[0mjoin\u001b[0m\u001b[1;33m(\u001b[0m\u001b[0mfile\u001b[0m\u001b[1;33m)\u001b[0m\u001b[1;33m.\u001b[0m\u001b[0mopen\u001b[0m\u001b[1;33m(\u001b[0m\u001b[0mencoding\u001b[0m\u001b[1;33m)\u001b[0m\u001b[1;33m\u001b[0m\u001b[1;33m\u001b[0m\u001b[0m\n\u001b[0m\u001b[0;32m    209\u001b[0m         \u001b[1;32mreturn\u001b[0m \u001b[0mstream\u001b[0m\u001b[1;33m\u001b[0m\u001b[1;33m\u001b[0m\u001b[0m\n\u001b[0;32m    210\u001b[0m \u001b[1;33m\u001b[0m\u001b[0m\n",
      "\u001b[1;32m~\\anaconda3\\envs\\py3-TF2.0\\lib\\site-packages\\nltk\\data.py\u001b[0m in \u001b[0;36mjoin\u001b[1;34m(self, fileid)\u001b[0m\n\u001b[0;32m    335\u001b[0m     \u001b[1;32mdef\u001b[0m \u001b[0mjoin\u001b[0m\u001b[1;33m(\u001b[0m\u001b[0mself\u001b[0m\u001b[1;33m,\u001b[0m \u001b[0mfileid\u001b[0m\u001b[1;33m)\u001b[0m\u001b[1;33m:\u001b[0m\u001b[1;33m\u001b[0m\u001b[1;33m\u001b[0m\u001b[0m\n\u001b[0;32m    336\u001b[0m         \u001b[0m_path\u001b[0m \u001b[1;33m=\u001b[0m \u001b[0mos\u001b[0m\u001b[1;33m.\u001b[0m\u001b[0mpath\u001b[0m\u001b[1;33m.\u001b[0m\u001b[0mjoin\u001b[0m\u001b[1;33m(\u001b[0m\u001b[0mself\u001b[0m\u001b[1;33m.\u001b[0m\u001b[0m_path\u001b[0m\u001b[1;33m,\u001b[0m \u001b[0mfileid\u001b[0m\u001b[1;33m)\u001b[0m\u001b[1;33m\u001b[0m\u001b[1;33m\u001b[0m\u001b[0m\n\u001b[1;32m--> 337\u001b[1;33m         \u001b[1;32mreturn\u001b[0m \u001b[0mFileSystemPathPointer\u001b[0m\u001b[1;33m(\u001b[0m\u001b[0m_path\u001b[0m\u001b[1;33m)\u001b[0m\u001b[1;33m\u001b[0m\u001b[1;33m\u001b[0m\u001b[0m\n\u001b[0m\u001b[0;32m    338\u001b[0m \u001b[1;33m\u001b[0m\u001b[0m\n\u001b[0;32m    339\u001b[0m     \u001b[1;32mdef\u001b[0m \u001b[0m__repr__\u001b[0m\u001b[1;33m(\u001b[0m\u001b[0mself\u001b[0m\u001b[1;33m)\u001b[0m\u001b[1;33m:\u001b[0m\u001b[1;33m\u001b[0m\u001b[1;33m\u001b[0m\u001b[0m\n",
      "\u001b[1;32m~\\anaconda3\\envs\\py3-TF2.0\\lib\\site-packages\\nltk\\compat.py\u001b[0m in \u001b[0;36m_decorator\u001b[1;34m(*args, **kwargs)\u001b[0m\n\u001b[0;32m     39\u001b[0m     \u001b[1;32mdef\u001b[0m \u001b[0m_decorator\u001b[0m\u001b[1;33m(\u001b[0m\u001b[1;33m*\u001b[0m\u001b[0margs\u001b[0m\u001b[1;33m,\u001b[0m \u001b[1;33m**\u001b[0m\u001b[0mkwargs\u001b[0m\u001b[1;33m)\u001b[0m\u001b[1;33m:\u001b[0m\u001b[1;33m\u001b[0m\u001b[1;33m\u001b[0m\u001b[0m\n\u001b[0;32m     40\u001b[0m         \u001b[0margs\u001b[0m \u001b[1;33m=\u001b[0m \u001b[1;33m(\u001b[0m\u001b[0margs\u001b[0m\u001b[1;33m[\u001b[0m\u001b[1;36m0\u001b[0m\u001b[1;33m]\u001b[0m\u001b[1;33m,\u001b[0m \u001b[0madd_py3_data\u001b[0m\u001b[1;33m(\u001b[0m\u001b[0margs\u001b[0m\u001b[1;33m[\u001b[0m\u001b[1;36m1\u001b[0m\u001b[1;33m]\u001b[0m\u001b[1;33m)\u001b[0m\u001b[1;33m)\u001b[0m \u001b[1;33m+\u001b[0m \u001b[0margs\u001b[0m\u001b[1;33m[\u001b[0m\u001b[1;36m2\u001b[0m\u001b[1;33m:\u001b[0m\u001b[1;33m]\u001b[0m\u001b[1;33m\u001b[0m\u001b[1;33m\u001b[0m\u001b[0m\n\u001b[1;32m---> 41\u001b[1;33m         \u001b[1;32mreturn\u001b[0m \u001b[0minit_func\u001b[0m\u001b[1;33m(\u001b[0m\u001b[1;33m*\u001b[0m\u001b[0margs\u001b[0m\u001b[1;33m,\u001b[0m \u001b[1;33m**\u001b[0m\u001b[0mkwargs\u001b[0m\u001b[1;33m)\u001b[0m\u001b[1;33m\u001b[0m\u001b[1;33m\u001b[0m\u001b[0m\n\u001b[0m\u001b[0;32m     42\u001b[0m \u001b[1;33m\u001b[0m\u001b[0m\n\u001b[0;32m     43\u001b[0m     \u001b[1;32mreturn\u001b[0m \u001b[0mwraps\u001b[0m\u001b[1;33m(\u001b[0m\u001b[0minit_func\u001b[0m\u001b[1;33m)\u001b[0m\u001b[1;33m(\u001b[0m\u001b[0m_decorator\u001b[0m\u001b[1;33m)\u001b[0m\u001b[1;33m\u001b[0m\u001b[1;33m\u001b[0m\u001b[0m\n",
      "\u001b[1;32m~\\anaconda3\\envs\\py3-TF2.0\\lib\\site-packages\\nltk\\data.py\u001b[0m in \u001b[0;36m__init__\u001b[1;34m(self, _path)\u001b[0m\n\u001b[0;32m    313\u001b[0m         \u001b[0m_path\u001b[0m \u001b[1;33m=\u001b[0m \u001b[0mos\u001b[0m\u001b[1;33m.\u001b[0m\u001b[0mpath\u001b[0m\u001b[1;33m.\u001b[0m\u001b[0mabspath\u001b[0m\u001b[1;33m(\u001b[0m\u001b[0m_path\u001b[0m\u001b[1;33m)\u001b[0m\u001b[1;33m\u001b[0m\u001b[1;33m\u001b[0m\u001b[0m\n\u001b[0;32m    314\u001b[0m         \u001b[1;32mif\u001b[0m \u001b[1;32mnot\u001b[0m \u001b[0mos\u001b[0m\u001b[1;33m.\u001b[0m\u001b[0mpath\u001b[0m\u001b[1;33m.\u001b[0m\u001b[0mexists\u001b[0m\u001b[1;33m(\u001b[0m\u001b[0m_path\u001b[0m\u001b[1;33m)\u001b[0m\u001b[1;33m:\u001b[0m\u001b[1;33m\u001b[0m\u001b[1;33m\u001b[0m\u001b[0m\n\u001b[1;32m--> 315\u001b[1;33m             \u001b[1;32mraise\u001b[0m \u001b[0mIOError\u001b[0m\u001b[1;33m(\u001b[0m\u001b[1;34m\"No such file or directory: %r\"\u001b[0m \u001b[1;33m%\u001b[0m \u001b[0m_path\u001b[0m\u001b[1;33m)\u001b[0m\u001b[1;33m\u001b[0m\u001b[1;33m\u001b[0m\u001b[0m\n\u001b[0m\u001b[0;32m    316\u001b[0m         \u001b[0mself\u001b[0m\u001b[1;33m.\u001b[0m\u001b[0m_path\u001b[0m \u001b[1;33m=\u001b[0m \u001b[0m_path\u001b[0m\u001b[1;33m\u001b[0m\u001b[1;33m\u001b[0m\u001b[0m\n\u001b[0;32m    317\u001b[0m \u001b[1;33m\u001b[0m\u001b[0m\n",
      "\u001b[1;31mOSError\u001b[0m: No such file or directory: 'C:\\\\Users\\\\Pepe\\\\AppData\\\\Roaming\\\\nltk_data\\\\corpora\\\\stopwords\\\\polish'"
     ]
    }
   ],
   "source": [
    "words = \" \".join(df['Title'].astype(str))\n",
    "\n",
    "def punctuation_stop(text):\n",
    "    filtered = []\n",
    "    stop_words = set(stopwords.words('polish'))\n",
    "    word_tokens = word_tokenize(text)\n",
    "    for w in word_tokens:\n",
    "        if w not in stop_words and w.isalpha():\n",
    "            filtered.append(w.lower())\n",
    "    return filtered\n",
    "\n",
    "words_filtered = punctuation_stop(words)\n",
    "\n",
    "text = \" \".join([ele for ele in words_filtered])\n",
    "\n",
    "wc = WordCloud(background_color=\"white\", random_state=1, stopwords=STOPWORDS, max_words=2000, width=800, height=1500)\n",
    "wc.generate(text)\n",
    "\n",
    "plt.figure(figsize=[10,10])\n",
    "plt.imshow(wc, interpolation=\"bilinear\")\n",
    "plt.axis(\"off\")\n",
    "plt.show"
   ]
  }
 ],
 "metadata": {
  "kernelspec": {
   "display_name": "Python [conda env:py3-TF2.0]",
   "language": "python",
   "name": "conda-env-py3-TF2.0-py"
  },
  "language_info": {
   "codemirror_mode": {
    "name": "ipython",
    "version": 3
   },
   "file_extension": ".py",
   "mimetype": "text/x-python",
   "name": "python",
   "nbconvert_exporter": "python",
   "pygments_lexer": "ipython3",
   "version": "3.7.7"
  }
 },
 "nbformat": 4,
 "nbformat_minor": 4
}
